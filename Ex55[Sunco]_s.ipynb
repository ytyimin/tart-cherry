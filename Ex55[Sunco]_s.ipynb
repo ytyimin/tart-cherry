{
 "cells": [
  {
   "cell_type": "code",
   "execution_count": 1,
   "metadata": {},
   "outputs": [],
   "source": [
    "# import the optimize solver Gurobi\n",
    "import gurobipy as gp\n",
    "from gurobipy import * "
   ]
  },
  {
   "cell_type": "code",
   "execution_count": 2,
   "metadata": {},
   "outputs": [
    {
     "name": "stdout",
     "output_type": "stream",
     "text": [
      "Using license file C:\\Users\\chaoz\\gurobi_licence\\gurobi.lic\n",
      "Academic license - for non-commercial use only\n"
     ]
    }
   ],
   "source": [
    "m = Model() # Import and create the model"
   ]
  },
  {
   "cell_type": "code",
   "execution_count": 3,
   "metadata": {},
   "outputs": [],
   "source": [
    "# Set the input Parameter: \n",
    "well_lim = [150000, 200000]  # Well 1 can produces up to 150,000 barrels per day; Well 2 can produce up to 200,000 barrels per day\n",
    "demand = [140000, 160000]  # New York requires 140,000 barrels per day; Los Angeles requires 160,000 barrels per day"
   ]
  },
  {
   "cell_type": "code",
   "execution_count": 4,
   "metadata": {},
   "outputs": [],
   "source": [
    "lim = [150000, 200000, 0, 0, 140000, 160000]"
   ]
  },
  {
   "cell_type": "code",
   "execution_count": 5,
   "metadata": {},
   "outputs": [],
   "source": [
    "# Set each node\n",
    "nodes = ['well1', 'well2', 'mobile', 'galveston', 'NY', 'LA']\n",
    "\n",
    "nodes_lim = {}\n",
    "for i in range(len(nodes)):\n",
    "    nodes_lim[nodes[i]] = lim[i]\n",
    "\n",
    "# Set arcs, cost from orign to destination\n",
    "\n",
    "arcs, cost = gp.multidict({\n",
    "    ('well1', 'mobile'):   3530,\n",
    "    ('well1', 'galveston'):  3420,\n",
    "    ('well1', 'NY'): 3920,\n",
    "    ('well1',  'LA'):  3710,\n",
    "    ('well2',  'mobile'): 3650,\n",
    "    ('well2',  'galveston'):  3580,\n",
    "    ('well2', 'NY'):   3840,\n",
    "    ('well2', 'LA'):  3620,\n",
    "    ('mobile', 'galveston'):  1200,\n",
    "    ('mobile',  'NY'):   3680,\n",
    "    ('mobile',  'LA'): 3740,\n",
    "    ('galveston',  'mobile'):  1500,\n",
    "    ('galveston',  'NY'):   3570,\n",
    "    ('galveston',  'LA'): 3650,\n",
    "    ('NY',  'LA'):  4120,\n",
    "    ('LA',  'NY'):   3980 })"
   ]
  },
  {
   "cell_type": "code",
   "execution_count": 6,
   "metadata": {},
   "outputs": [
    {
     "name": "stdout",
     "output_type": "stream",
     "text": [
      "{'well1': 150000, 'well2': 200000, 'mobile': 0, 'galveston': 0, 'NY': 140000, 'LA': 160000}\n"
     ]
    }
   ],
   "source": [
    "m.update()\n",
    "print(nodes_lim)"
   ]
  },
  {
   "cell_type": "code",
   "execution_count": 7,
   "metadata": {},
   "outputs": [],
   "source": [
    "# Create variables\n",
    "flow = m.addVars(arcs, obj = cost, name=\"flow\")"
   ]
  },
  {
   "cell_type": "code",
   "execution_count": 8,
   "metadata": {},
   "outputs": [
    {
     "data": {
      "text/plain": [
       "{'mobile': <gurobi.Constr *Awaiting Model Update*>,\n",
       " 'galveston': <gurobi.Constr *Awaiting Model Update*>}"
      ]
     },
     "execution_count": 8,
     "metadata": {},
     "output_type": "execute_result"
    }
   ],
   "source": [
    "# Flow-conservation constraints\n",
    "m.addConstrs((flow.sum(i, '*') <= nodes_lim[i] for i in nodes[:2] ),\"c1\")\n",
    "m.addConstrs(((flow.sum('*', i) - flow.sum(i, '*')) == nodes_lim[i] for i in nodes[4:] ),\"c2\")\n",
    "m.addConstrs(((flow.sum('*', i) - flow.sum(i, '*')) == nodes_lim[i] for i in nodes[2:4]),\"c3\")"
   ]
  },
  {
   "cell_type": "code",
   "execution_count": 9,
   "metadata": {},
   "outputs": [
    {
     "name": "stdout",
     "output_type": "stream",
     "text": [
      "Gurobi Optimizer version 9.0.1 build v9.0.1rc0 (win64)\n",
      "Optimize a model with 6 rows, 16 columns and 32 nonzeros\n",
      "Model fingerprint: 0x98434d04\n",
      "Coefficient statistics:\n",
      "  Matrix range     [1e+00, 1e+00]\n",
      "  Objective range  [1e+03, 4e+03]\n",
      "  Bounds range     [0e+00, 0e+00]\n",
      "  RHS range        [1e+05, 2e+05]\n",
      "Presolve time: 0.11s\n",
      "Presolved: 6 rows, 16 columns, 32 nonzeros\n",
      "\n",
      "Iteration    Objective       Primal Inf.    Dual Inf.      Time\n",
      "       0    0.0000000e+00   3.000000e+05   0.000000e+00      0s\n",
      "       5    1.1248000e+09   0.000000e+00   0.000000e+00      0s\n",
      "\n",
      "Solved in 5 iterations and 0.13 seconds\n",
      "Optimal objective  1.124800000e+09\n"
     ]
    }
   ],
   "source": [
    "# Compute optimal solution\n",
    "m.optimize()"
   ]
  },
  {
   "cell_type": "code",
   "execution_count": 10,
   "metadata": {},
   "outputs": [
    {
     "name": "stdout",
     "output_type": "stream",
     "text": [
      "\n",
      "    Variable            X \n",
      "-------------------------\n",
      "flow[well1,NY]       100000 \n",
      "flow[well2,NY]        40000 \n",
      "flow[well2,LA]       160000 \n"
     ]
    }
   ],
   "source": [
    "m.printAttr('X')"
   ]
  },
  {
   "cell_type": "code",
   "execution_count": 11,
   "metadata": {},
   "outputs": [
    {
     "name": "stdout",
     "output_type": "stream",
     "text": [
      "well1 -> NY : 100000\n",
      "well2 -> NY : 40000\n",
      "well2 -> LA : 160000\n"
     ]
    }
   ],
   "source": [
    "# Print solution\n",
    "if m.status == GRB.OPTIMAL:\n",
    "    solution = m.getAttr('x', flow)\n",
    "    for i, j in arcs:\n",
    "        if solution[i,j] > 0:\n",
    "            print('%s -> %s : %g' % (i, j, solution[i,j]))"
   ]
  },
  {
   "cell_type": "code",
   "execution_count": 12,
   "metadata": {},
   "outputs": [
    {
     "data": {
      "text/plain": [
       "1124800000.0"
      ]
     },
     "execution_count": 12,
     "metadata": {},
     "output_type": "execute_result"
    }
   ],
   "source": [
    "# Get the Optimal Objective Value\n",
    "m.ObjVal"
   ]
  },
  {
   "cell_type": "code",
   "execution_count": null,
   "metadata": {},
   "outputs": [],
   "source": []
  }
 ],
 "metadata": {
  "kernelspec": {
   "display_name": "Python 3",
   "language": "python",
   "name": "python3"
  },
  "language_info": {
   "codemirror_mode": {
    "name": "ipython",
    "version": 3
   },
   "file_extension": ".py",
   "mimetype": "text/x-python",
   "name": "python",
   "nbconvert_exporter": "python",
   "pygments_lexer": "ipython3",
   "version": "3.7.6"
  }
 },
 "nbformat": 4,
 "nbformat_minor": 4
}
