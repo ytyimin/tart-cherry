{
 "cells": [
  {
   "cell_type": "code",
   "execution_count": 1,
   "metadata": {},
   "outputs": [],
   "source": [
    "from gurobipy import *  # import the optimize solver Gurobi"
   ]
  },
  {
   "cell_type": "code",
   "execution_count": 2,
   "metadata": {},
   "outputs": [
    {
     "name": "stdout",
     "output_type": "stream",
     "text": [
      "Using license file C:\\Users\\chaoz\\gurobi_licence\\gurobi.lic\n",
      "Academic license - for non-commercial use only\n"
     ]
    }
   ],
   "source": [
    "number_of_community = 3 # Set the index j for number of community(lvd 1900, Vertex, Pala Mesa)\n",
    "number_of_labor = 4 # Set the index i for number of hire(A, B, C, D)\n",
    "m = Model() # Import and create the model"
   ]
  },
  {
   "cell_type": "code",
   "execution_count": 3,
   "metadata": {},
   "outputs": [],
   "source": [
    "# Set the input Parameter: \n",
    "D = [26, 30, 28] # Demand of Order from each community \n",
    "labor_cost = [90, 80, 82, 88]  #  Fixed cosy for hiring each labor \n",
    "total_labor = 2 # At most 2 people can be hired\n",
    "unit_cost = [[2, 1.6, 2.4], [1.4, 2.3, 2], [2.1, 1.7, 1.9], [1.8, 2.5, 1.8]]   # Unit Cost to deliver one order by person i to Community j\n",
    "demand = [250, 170]  # Demand to produce each type of juice\n",
    "weekly_capacity = 45   # Each employee could delivery maximum 45 orders per week\n"
   ]
  },
  {
   "cell_type": "code",
   "execution_count": 4,
   "metadata": {},
   "outputs": [],
   "source": [
    "# Set the Variable list: Set whether person i should be hired as x; Set number of order to deliver by person  i to community j as nx\n",
    "# Set the variable x to binary number, nx to integer number\n",
    "\n",
    "x = [] \n",
    "for i in range(number_of_labor):\n",
    "    x.append(m.addVar(vtype=GRB.BINARY, name='x{}'.format(i + 1)))\n",
    "\n",
    "nx = [[0, 0, 0], [0, 0, 0], [0, 0, 0], [0, 0, 0]]\n",
    "for i in range(number_of_labor):\n",
    "    for j in range(number_of_community):\n",
    "        nx[i][j] = m.addVar(vtype=GRB.INTEGER, name='nx{}'.format(str(i + 1) + str(j + 1)))"
   ]
  },
  {
   "cell_type": "code",
   "execution_count": 5,
   "metadata": {},
   "outputs": [],
   "source": [
    "# Set the Minimize Obijective: Total Cost\n",
    "m.setObjective(quicksum([sum([unit_cost[i][j] * nx[i][j] for j in range(number_of_community)]) for i in range(number_of_labor)]) + quicksum([(x[i] * labor_cost[i]) for i in range(number_of_labor)]) ,  GRB.MINIMIZE)"
   ]
  },
  {
   "cell_type": "code",
   "execution_count": 6,
   "metadata": {},
   "outputs": [],
   "source": [
    "# Set Non Negative number of order\n",
    "for i in range(number_of_labor):\n",
    "     for j in range(number_of_community):\n",
    "            c1 = m.addConstr(nx[i][j]  >= 0)"
   ]
  },
  {
   "cell_type": "code",
   "execution_count": 7,
   "metadata": {},
   "outputs": [
    {
     "name": "stdout",
     "output_type": "stream",
     "text": [
      "[26, 30, 28]\n"
     ]
    }
   ],
   "source": [
    "print(D)"
   ]
  },
  {
   "cell_type": "code",
   "execution_count": 8,
   "metadata": {},
   "outputs": [],
   "source": [
    "# Satisfy demand of a community\n",
    "c2 = []\n",
    "for j in range(number_of_community):\n",
    "    c2.append(m.addConstr(sum([nx[i][j] for i in range(number_of_labor)]) >= D[j]))"
   ]
  },
  {
   "cell_type": "code",
   "execution_count": 9,
   "metadata": {},
   "outputs": [],
   "source": [
    "# No delivery allowed from no-hired people\n",
    "c3 = []\n",
    "for i in range(number_of_labor):\n",
    "    c3.append(m.addConstr(sum([nx[i][j] for j in range(number_of_community)]) <= (x[i] * weekly_capacity )))"
   ]
  },
  {
   "cell_type": "code",
   "execution_count": 10,
   "metadata": {},
   "outputs": [],
   "source": [
    "# If A is hired, B must be hired\n",
    "c4 = m.addConstr(x[0] <= x[1])\n"
   ]
  },
  {
   "cell_type": "code",
   "execution_count": 11,
   "metadata": {},
   "outputs": [],
   "source": [
    "# At most 2 people can be hired\n",
    "c5 = m.addConstr(sum([x[i] for i in range(number_of_labor)]) <= total_labor)"
   ]
  },
  {
   "cell_type": "code",
   "execution_count": 12,
   "metadata": {},
   "outputs": [],
   "source": [
    "# Either B or D must always be hired\n",
    "c6 = m.addConstr((x[1] + x[3]) >= 1)"
   ]
  },
  {
   "cell_type": "code",
   "execution_count": 13,
   "metadata": {},
   "outputs": [
    {
     "name": "stdout",
     "output_type": "stream",
     "text": [
      "Gurobi Optimizer version 9.0.1 build v9.0.1rc0 (win64)\n",
      "Optimize a model with 22 rows, 16 columns and 48 nonzeros\n",
      "Model fingerprint: 0x61c572dd\n",
      "Variable types: 0 continuous, 16 integer (4 binary)\n",
      "Coefficient statistics:\n",
      "  Matrix range     [1e+00, 5e+01]\n",
      "  Objective range  [1e+00, 9e+01]\n",
      "  Bounds range     [1e+00, 1e+00]\n",
      "  RHS range        [1e+00, 3e+01]\n",
      "Found heuristic solution: objective 315.9000000\n",
      "Presolve removed 12 rows and 0 columns\n",
      "Presolve time: 0.00s\n",
      "Presolved: 10 rows, 16 columns, 36 nonzeros\n",
      "Variable types: 0 continuous, 16 integer (4 binary)\n",
      "\n",
      "Root relaxation: objective 2.931444e+02, 12 iterations, 0.00 seconds\n",
      "\n",
      "    Nodes    |    Current Node    |     Objective Bounds      |     Work\n",
      " Expl Unexpl |  Obj  Depth IntInf | Incumbent    BestBd   Gap | It/Node Time\n",
      "\n",
      "     0     0  293.14444    0    3  315.90000  293.14444  7.20%     -    0s\n",
      "H    0     0                     304.4000000  293.14444  3.70%     -    0s\n",
      "H    0     0                     303.9000000  293.14444  3.54%     -    0s\n",
      "     0     0  303.90000    0    2  303.90000  303.90000  0.00%     -    0s\n",
      "\n",
      "Cutting planes:\n",
      "  Implied bound: 2\n",
      "  Clique: 1\n",
      "  MIR: 1\n",
      "\n",
      "Explored 1 nodes (14 simplex iterations) in 0.12 seconds\n",
      "Thread count was 8 (of 8 available processors)\n",
      "\n",
      "Solution count 3: 303.9 304.4 315.9 \n",
      "\n",
      "Optimal solution found (tolerance 1.00e-04)\n",
      "Best objective 3.039000000000e+02, best bound 3.039000000000e+02, gap 0.0000%\n"
     ]
    }
   ],
   "source": [
    "# Run the optimize solver\n",
    "m.optimize()"
   ]
  },
  {
   "cell_type": "code",
   "execution_count": 16,
   "metadata": {},
   "outputs": [
    {
     "name": "stdout",
     "output_type": "stream",
     "text": [
      "\n",
      "    Variable            X \n",
      "-------------------------\n",
      "          x2            1 \n",
      "          x3            1 \n",
      "        nx21           26 \n",
      "        nx23           13 \n",
      "        nx32           30 \n",
      "        nx33           15 \n"
     ]
    }
   ],
   "source": [
    "# Get the Optimal Solution for X\n",
    "m.printAttr('X')"
   ]
  },
  {
   "cell_type": "code",
   "execution_count": 17,
   "metadata": {},
   "outputs": [
    {
     "data": {
      "text/plain": [
       "303.9"
      ]
     },
     "execution_count": 17,
     "metadata": {},
     "output_type": "execute_result"
    }
   ],
   "source": [
    "# Get the Optimal Objective Value\n",
    "m.ObjVal"
   ]
  },
  {
   "cell_type": "code",
   "execution_count": null,
   "metadata": {},
   "outputs": [],
   "source": []
  }
 ],
 "metadata": {
  "kernelspec": {
   "display_name": "Python 3",
   "language": "python",
   "name": "python3"
  },
  "language_info": {
   "codemirror_mode": {
    "name": "ipython",
    "version": 3
   },
   "file_extension": ".py",
   "mimetype": "text/x-python",
   "name": "python",
   "nbconvert_exporter": "python",
   "pygments_lexer": "ipython3",
   "version": "3.7.6"
  }
 },
 "nbformat": 4,
 "nbformat_minor": 4
}
