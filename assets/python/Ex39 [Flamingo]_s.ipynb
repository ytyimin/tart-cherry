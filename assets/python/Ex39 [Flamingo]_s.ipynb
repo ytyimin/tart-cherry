{
 "cells": [
  {
   "cell_type": "code",
   "execution_count": 1,
   "metadata": {},
   "outputs": [],
   "source": [
    "from gurobipy import *  # import the optimize solver Gurobi"
   ]
  },
  {
   "cell_type": "code",
   "execution_count": 2,
   "metadata": {},
   "outputs": [
    {
     "name": "stdout",
     "output_type": "stream",
     "text": [
      "Using license file C:\\Users\\chaoz\\gurobi_licence\\gurobi.lic\n",
      "Academic license - for non-commercial use only\n"
     ]
    }
   ],
   "source": [
    "number_of_player = 6 # Set the number of player\n",
    "number_of_game = 6 # Set the number of game\n",
    "m = Model() # Import and create the model"
   ]
  },
  {
   "cell_type": "code",
   "execution_count": 3,
   "metadata": {},
   "outputs": [],
   "source": [
    "# Set the input Parameter: \n",
    "minutes = [[45, 77, 63, 75, 81, 85], [81, 45, 70, 68, 88, 90],[45, 78, 81, 82, 90, 90],[81, 87, 90, 90, 90, 90],[90, 90, 88, 90, 77, 60],[90, 81, 45, 70, 90, 88] ] # Minutes of play of each player in each match\n",
    "max_minutes = [320, 320, 320, 0, 0, 0]  # Maximum minutes of play for the players returning from an injury "
   ]
  },
  {
   "cell_type": "code",
   "execution_count": 4,
   "metadata": {},
   "outputs": [],
   "source": [
    "# Set the Variable list: decide which practice game must be played\n",
    "# Set the variable nx to binary number\n",
    "nx = [] \n",
    "for j in range(number_of_game):\n",
    "    nx.append(m.addVar(vtype=GRB.BINARY, name='nx{}'.format(j + 1)))"
   ]
  },
  {
   "cell_type": "code",
   "execution_count": 5,
   "metadata": {},
   "outputs": [],
   "source": [
    "time = []\n",
    "for i in range(number_of_player):\n",
    "    time.append(quicksum([minutes[j][i]*nx[j] for j in range(len(nx))]))\n"
   ]
  },
  {
   "cell_type": "code",
   "execution_count": 6,
   "metadata": {},
   "outputs": [
    {
     "name": "stdout",
     "output_type": "stream",
     "text": [
      "<gurobi.LinExpr: 45.0 nx1 + 81.0 nx2 + 45.0 nx3 + 81.0 nx4 + 90.0 nx5 + 90.0 nx6 + 77.0 nx1 + 45.0 nx2 + 78.0 nx3 + 87.0 nx4 + 90.0 nx5 + 81.0 nx6 + 63.0 nx1 + 70.0 nx2 + 81.0 nx3 + 90.0 nx4 + 88.0 nx5 + 45.0 nx6 + 75.0 nx1 + 68.0 nx2 + 82.0 nx3 + 90.0 nx4 + 90.0 nx5 + 70.0 nx6 + 81.0 nx1 + 88.0 nx2 + 90.0 nx3 + 90.0 nx4 + 77.0 nx5 + 90.0 nx6 + 85.0 nx1 + 90.0 nx2 + 90.0 nx3 + 90.0 nx4 + 60.0 nx5 + 88.0 nx6>\n"
     ]
    }
   ],
   "source": [
    "m.update()\n",
    "print(sum(time))"
   ]
  },
  {
   "cell_type": "code",
   "execution_count": 7,
   "metadata": {},
   "outputs": [],
   "source": [
    "# Set the Maximize Obijective: Maximize minutes of play for the group of 6 players\n",
    "m.setObjective(sum(time), GRB.MAXIMIZE)"
   ]
  },
  {
   "cell_type": "code",
   "execution_count": 8,
   "metadata": {},
   "outputs": [],
   "source": [
    "# Per day limitations of weight constraint\n",
    "\n",
    "c = []\n",
    "for i in range(3):\n",
    "    c.append(m.addConstr(time[i] <= max_minutes[i]))\n",
    "m.update()"
   ]
  },
  {
   "cell_type": "code",
   "execution_count": 9,
   "metadata": {},
   "outputs": [
    {
     "name": "stdout",
     "output_type": "stream",
     "text": [
      "Gurobi Optimizer version 9.0.1 build v9.0.1rc0 (win64)\n",
      "Optimize a model with 3 rows, 6 columns and 18 nonzeros\n",
      "Model fingerprint: 0x2ffba5cc\n",
      "Variable types: 0 continuous, 6 integer (6 binary)\n",
      "Coefficient statistics:\n",
      "  Matrix range     [5e+01, 9e+01]\n",
      "  Objective range  [4e+02, 5e+02]\n",
      "  Bounds range     [1e+00, 1e+00]\n",
      "  RHS range        [3e+02, 3e+02]\n",
      "Found heuristic solution: objective 1862.0000000\n",
      "Presolve time: 0.45s\n",
      "Presolved: 3 rows, 6 columns, 17 nonzeros\n",
      "Variable types: 0 continuous, 6 integer (6 binary)\n",
      "\n",
      "Root relaxation: objective 1.900000e+03, 3 iterations, 0.02 seconds\n",
      "\n",
      "    Nodes    |    Current Node    |     Objective Bounds      |     Work\n",
      " Expl Unexpl |  Obj  Depth IntInf | Incumbent    BestBd   Gap | It/Node Time\n",
      "\n",
      "*    0     0               0    1900.0000000 1900.00000  0.00%     -    0s\n",
      "\n",
      "Explored 0 nodes (3 simplex iterations) in 0.52 seconds\n",
      "Thread count was 8 (of 8 available processors)\n",
      "\n",
      "Solution count 2: 1900 1862 \n",
      "\n",
      "Optimal solution found (tolerance 1.00e-04)\n",
      "Best objective 1.900000000000e+03, best bound 1.900000000000e+03, gap 0.0000%\n"
     ]
    }
   ],
   "source": [
    "# Run the optimize solver\n",
    "m.optimize()"
   ]
  },
  {
   "cell_type": "code",
   "execution_count": 10,
   "metadata": {},
   "outputs": [
    {
     "name": "stdout",
     "output_type": "stream",
     "text": [
      "\n",
      "    Variable            X \n",
      "-------------------------\n",
      "         nx2            1 \n",
      "         nx3            1 \n",
      "         nx4            1 \n",
      "         nx6            1 \n"
     ]
    }
   ],
   "source": [
    "# Get the Optimal Solution for X\n",
    "m.printAttr('X')"
   ]
  },
  {
   "cell_type": "code",
   "execution_count": 11,
   "metadata": {},
   "outputs": [
    {
     "data": {
      "text/plain": [
       "1900.0"
      ]
     },
     "execution_count": 11,
     "metadata": {},
     "output_type": "execute_result"
    }
   ],
   "source": [
    "# Get the Optimal Objective Value\n",
    "m.ObjVal"
   ]
  },
  {
   "cell_type": "code",
   "execution_count": null,
   "metadata": {},
   "outputs": [],
   "source": []
  }
 ],
 "metadata": {
  "kernelspec": {
   "display_name": "Python 3",
   "language": "python",
   "name": "python3"
  },
  "language_info": {
   "codemirror_mode": {
    "name": "ipython",
    "version": 3
   },
   "file_extension": ".py",
   "mimetype": "text/x-python",
   "name": "python",
   "nbconvert_exporter": "python",
   "pygments_lexer": "ipython3",
   "version": "3.7.6"
  }
 },
 "nbformat": 4,
 "nbformat_minor": 4
}
