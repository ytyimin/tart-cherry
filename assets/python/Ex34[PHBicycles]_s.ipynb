{
 "cells": [
  {
   "cell_type": "code",
   "execution_count": 1,
   "metadata": {},
   "outputs": [],
   "source": [
    "from gurobipy import *  # import the optimize solver Gurobi"
   ]
  },
  {
   "cell_type": "code",
   "execution_count": 2,
   "metadata": {},
   "outputs": [
    {
     "name": "stdout",
     "output_type": "stream",
     "text": [
      "Using license file C:\\Users\\chaoz\\gurobi_licence\\gurobi.lic\n",
      "Academic license - for non-commercial use only\n"
     ]
    }
   ],
   "source": [
    "horizon_length = 3 # Set the index t for number of periods(1, 2, 3)\n",
    "number_of_product = 2 # Set the index i for number of products(Street bike, road bike)\n",
    "number_of_line = 2 # Set the index j for number of line(1, 2)\n",
    "number_of_resources = 2 # Set the index k for number of resource(machines, workers)\n",
    "m = Model() # Import and create the model"
   ]
  },
  {
   "cell_type": "code",
   "execution_count": 3,
   "metadata": {},
   "outputs": [],
   "source": [
    "# Set the input Parameter: \n",
    "forecasted_demand = [[1000,500],[1050,600],[1100,550]]# forecasted number of units demanded for product i in period t\n",
    "mach_resource_lim = [8600,8500,8800] # amount of resource machine available in period t\n",
    "worker_resource_lim = [17000, 16600, 17200] # amount of resource worker available in period t\n",
    "mach_unit_resource_req = [[6,5],[7,6]] # amount of resources machine required by line j in one unit of product i\n",
    "worker_unit_resource_req = [[4,10],[5,12]] # amount of resources worker required by line j in one unit of product i\n",
    "line_cost = [[[72,80],[74,78],[75,78]],[[85,90],[88,95],[84,92]]]\n",
    "holding_cost = [[5,6],[6,7],[5,7]]  #  cost to hold one unit of product i in inventory for period \n",
    "init_inv = [100,50] # initial inventory of product i"
   ]
  },
  {
   "cell_type": "code",
   "execution_count": 4,
   "metadata": {},
   "outputs": [],
   "source": [
    "# Set the Variable nx : Number of units of bike i produced by line j in period t\n",
    "# Set var nx to integer number\n",
    "\n",
    "nx = []\n",
    "for i in range(number_of_product):\n",
    "    s = []\n",
    "    for j in range(number_of_line):\n",
    "        k = []\n",
    "        for t in range(horizon_length):\n",
    "            k.append(m.addVar(vtype=GRB.INTEGER, name='nx{}'.format(str(i + 1) + str(j + 1) + str(t + 1))))\n",
    "        s.append(k)\n",
    "    nx.append(s)\n",
    "    "
   ]
  },
  {
   "cell_type": "code",
   "execution_count": 5,
   "metadata": {},
   "outputs": [],
   "source": [
    "#Caculate number of units of product i held in inventory at the end of period t\n",
    "\n",
    "\n",
    "I = []\n",
    "for i in range(number_of_product):\n",
    "    Is = []\n",
    "    for t in range(horizon_length):\n",
    "        if t == 0:\n",
    "            iv = init_inv[i]\n",
    "        else:\n",
    "            iv = Is[t-1]\n",
    "        pro = 0\n",
    "        for j in range(number_of_line):\n",
    "            pro += nx[i][j][t]\n",
    "        fv = iv + pro - forecasted_demand[t][i]\n",
    "        Is.append(fv)\n",
    "    I.append(Is)\n",
    "   \n",
    "              "
   ]
  },
  {
   "cell_type": "code",
   "execution_count": 6,
   "metadata": {},
   "outputs": [],
   "source": [
    "# Set the Minimize Obijective: Total Cost\n",
    "\n",
    "m.setObjective(quicksum([line_cost[i][t][j] * nx[i][j][t] for j, t, i in [(x, y, z ) for x in range(number_of_line) for y in range (horizon_length) for z in range(number_of_product)]]) \n",
    "               + quicksum([holding_cost[t][i] * I[i][t] for i, t in[(w,v) for w in range(number_of_product) for v in range (horizon_length)]])\n",
    "               ,GRB.MINIMIZE)"
   ]
  },
  {
   "cell_type": "code",
   "execution_count": 7,
   "metadata": {},
   "outputs": [],
   "source": [
    "# Set Non Negative number of units of product\n",
    "\n",
    "for i in range(number_of_product):\n",
    "     for j in range(number_of_line):\n",
    "            for t in range(horizon_length):\n",
    "                c1 = m.addConstr(nx[i][j][t]  >= 0)\n",
    "            "
   ]
  },
  {
   "cell_type": "code",
   "execution_count": 8,
   "metadata": {},
   "outputs": [],
   "source": [
    "# Set Non Negative number of end of inventory\n",
    "\n",
    "for i in range(number_of_product):\n",
    "    for t in range(horizon_length):\n",
    "        c2 = m.addConstr(I[i][t]  >= 0)"
   ]
  },
  {
   "cell_type": "code",
   "execution_count": 9,
   "metadata": {},
   "outputs": [],
   "source": [
    "# Satisfy available factory capacity\n",
    "# Worker capacity\n",
    "\n",
    "c3 = []\n",
    "for t in range(horizon_length):\n",
    "    c3.append(m.addConstr(quicksum([nx[i][j][t]* worker_unit_resource_req[i][j] for i, j in [(a,b) for a in range(number_of_product) for b in range(number_of_line)]]) <= worker_resource_lim[t]))"
   ]
  },
  {
   "cell_type": "code",
   "execution_count": 10,
   "metadata": {},
   "outputs": [],
   "source": [
    "# Satisfy available factory capacity\n",
    "# Machine capacity\n",
    "\n",
    "c4 = []\n",
    "for t in range(horizon_length):\n",
    "    c4.append(m.addConstr(quicksum([nx[i][j][t]* mach_unit_resource_req[i][j] for i, j in [(a,b) for a in range(number_of_product) for b in range(number_of_line)]]) <= mach_resource_lim[t]))"
   ]
  },
  {
   "cell_type": "code",
   "execution_count": 11,
   "metadata": {},
   "outputs": [
    {
     "name": "stdout",
     "output_type": "stream",
     "text": [
      "Gurobi Optimizer version 9.0.1 build v9.0.1rc0 (win64)\n",
      "Optimize a model with 24 rows, 12 columns and 60 nonzeros\n",
      "Model fingerprint: 0x0db6525b\n",
      "Variable types: 0 continuous, 12 integer (0 binary)\n",
      "Coefficient statistics:\n",
      "  Matrix range     [1e+00, 1e+01]\n",
      "  Objective range  [8e+01, 1e+02]\n",
      "  Bounds range     [0e+00, 0e+00]\n",
      "  RHS range        [5e+02, 2e+04]\n",
      "Presolve removed 12 rows and 0 columns\n",
      "Presolve time: 0.01s\n",
      "Presolved: 12 rows, 12 columns, 48 nonzeros\n",
      "Variable types: 0 continuous, 12 integer (0 binary)\n",
      "\n",
      "Root relaxation: objective 3.796422e+05, 15 iterations, 0.00 seconds\n",
      "\n",
      "    Nodes    |    Current Node    |     Objective Bounds      |     Work\n",
      " Expl Unexpl |  Obj  Depth IntInf | Incumbent    BestBd   Gap | It/Node Time\n",
      "\n",
      "     0     0 379642.222    0    7          - 379642.222      -     -    0s\n",
      "H    0     0                    379663.00000 379642.222  0.01%     -    0s\n",
      "\n",
      "Explored 1 nodes (15 simplex iterations) in 0.08 seconds\n",
      "Thread count was 8 (of 8 available processors)\n",
      "\n",
      "Solution count 1: 379663 \n",
      "\n",
      "Optimal solution found (tolerance 1.00e-04)\n",
      "Best objective 3.796630000000e+05, best bound 3.796422222222e+05, gap 0.0055%\n"
     ]
    }
   ],
   "source": [
    "# Run the optimize solver\n",
    "m.optimize()"
   ]
  },
  {
   "cell_type": "code",
   "execution_count": 12,
   "metadata": {},
   "outputs": [
    {
     "name": "stdout",
     "output_type": "stream",
     "text": [
      "\n",
      "    Variable            X \n",
      "-------------------------\n",
      "       nx111          897 \n",
      "       nx112            1 \n",
      "       nx113            1 \n",
      "       nx121            4 \n",
      "       nx122         1056 \n",
      "       nx123         1091 \n",
      "       nx212          106 \n",
      "       nx213           45 \n",
      "       nx221          533 \n",
      "       nx222          412 \n",
      "       nx223          504 \n"
     ]
    }
   ],
   "source": [
    "# Get the Optimal Solution for X\n",
    "m.printAttr('X')"
   ]
  },
  {
   "cell_type": "code",
   "execution_count": 13,
   "metadata": {},
   "outputs": [
    {
     "data": {
      "text/plain": [
       "379663.0"
      ]
     },
     "execution_count": 13,
     "metadata": {},
     "output_type": "execute_result"
    }
   ],
   "source": [
    "# Get the Optimal Objective Value\n",
    "m.ObjVal"
   ]
  },
  {
   "cell_type": "code",
   "execution_count": null,
   "metadata": {},
   "outputs": [],
   "source": []
  },
  {
   "cell_type": "code",
   "execution_count": null,
   "metadata": {},
   "outputs": [],
   "source": []
  },
  {
   "cell_type": "code",
   "execution_count": null,
   "metadata": {},
   "outputs": [],
   "source": []
  }
 ],
 "metadata": {
  "kernelspec": {
   "display_name": "Python 3",
   "language": "python",
   "name": "python3"
  },
  "language_info": {
   "codemirror_mode": {
    "name": "ipython",
    "version": 3
   },
   "file_extension": ".py",
   "mimetype": "text/x-python",
   "name": "python",
   "nbconvert_exporter": "python",
   "pygments_lexer": "ipython3",
   "version": "3.7.6"
  }
 },
 "nbformat": 4,
 "nbformat_minor": 4
}
