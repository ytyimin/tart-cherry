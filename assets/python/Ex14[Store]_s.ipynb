{
 "cells": [
  {
   "cell_type": "code",
   "execution_count": 1,
   "metadata": {},
   "outputs": [],
   "source": [
    "from gurobipy import *  # import the optimize solver Gurobi"
   ]
  },
  {
   "cell_type": "code",
   "execution_count": 2,
   "metadata": {},
   "outputs": [
    {
     "name": "stdout",
     "output_type": "stream",
     "text": [
      "Using license file C:\\Users\\chaoz\\gurobi_licence\\gurobi.lic\n",
      "Academic license - for non-commercial use only\n"
     ]
    }
   ],
   "source": [
    "number_of_shift = 6 # Set the index i, j for number of shifts in a day(1, 2, 3, 4, 5, 6)\n",
    "m = Model() # Import and create the model"
   ]
  },
  {
   "cell_type": "code",
   "execution_count": 3,
   "metadata": {},
   "outputs": [],
   "source": [
    "# Set the input Parameter: \n",
    "work_duration = [[1, 0, 0, 0, 0, 1], [1, 1, 0, 0, 0, 0],[0, 1, 1, 0, 0, 0], [0, 0, 1, 1, 0, 0], [0, 0, 0, 1, 1, 0], [0, 0, 0, 0, 1, 1]] # Information table which illustrates the clerks work duration from shift i to j \n",
    "demand = [4, 4, 7, 7, 8, 10]   # Demand for on duty clerks in shift j  "
   ]
  },
  {
   "cell_type": "code",
   "execution_count": 4,
   "metadata": {},
   "outputs": [],
   "source": [
    "# Set the Variable list: Number of clerks who strat duty in shift i\n",
    "# Set the variable to integer number\n",
    "nx = [] \n",
    "for i in range(number_of_shift):\n",
    "    nx.append(m.addVar(vtype=GRB.INTEGER, name='nx{}'.format(i + 1)))\n"
   ]
  },
  {
   "cell_type": "code",
   "execution_count": 5,
   "metadata": {},
   "outputs": [],
   "source": [
    "# Set the Minimize Obijective: Total number of clerks\n",
    "m.setObjective(sum([nx[i] for i in range(len(nx))]),  GRB.MINIMIZE)"
   ]
  },
  {
   "cell_type": "code",
   "execution_count": 6,
   "metadata": {},
   "outputs": [],
   "source": [
    "# Set Non Negative decision variable\n",
    "c1 = []\n",
    "for i in range(len(nx)):\n",
    "    c1.append(m.addConstr(nx[i] >= 0))\n",
    "    \n",
    "# Demand for on duty clerks must be satisfied for each day \n",
    "c2 = []\n",
    "for j in range(len(nx)):\n",
    "    c2.append(m.addConstr(quicksum([nx[i] * work_duration[i][j] for i in range(number_of_shift)]) >= demand[j]))"
   ]
  },
  {
   "cell_type": "code",
   "execution_count": 7,
   "metadata": {},
   "outputs": [
    {
     "name": "stdout",
     "output_type": "stream",
     "text": [
      "Gurobi Optimizer version 9.0.1 build v9.0.1rc0 (win64)\n",
      "Optimize a model with 12 rows, 6 columns and 18 nonzeros\n",
      "Model fingerprint: 0xe19ab052\n",
      "Variable types: 0 continuous, 6 integer (0 binary)\n",
      "Coefficient statistics:\n",
      "  Matrix range     [1e+00, 1e+00]\n",
      "  Objective range  [1e+00, 1e+00]\n",
      "  Bounds range     [0e+00, 0e+00]\n",
      "  RHS range        [4e+00, 1e+01]\n",
      "Found heuristic solution: objective 21.0000000\n",
      "Presolve removed 6 rows and 0 columns\n",
      "Presolve time: 0.00s\n",
      "Presolved: 6 rows, 6 columns, 12 nonzeros\n",
      "Variable types: 0 continuous, 6 integer (0 binary)\n",
      "\n",
      "Root relaxation: cutoff, 3 iterations, 0.00 seconds\n",
      "\n",
      "    Nodes    |    Current Node    |     Objective Bounds      |     Work\n",
      " Expl Unexpl |  Obj  Depth IntInf | Incumbent    BestBd   Gap | It/Node Time\n",
      "\n",
      "     0     0     cutoff    0        21.00000   21.00000  0.00%     -    0s\n",
      "\n",
      "Explored 0 nodes (3 simplex iterations) in 0.07 seconds\n",
      "Thread count was 8 (of 8 available processors)\n",
      "\n",
      "Solution count 1: 21 \n",
      "\n",
      "Optimal solution found (tolerance 1.00e-04)\n",
      "Best objective 2.100000000000e+01, best bound 2.100000000000e+01, gap 0.0000%\n"
     ]
    }
   ],
   "source": [
    "# Run the optimize solver\n",
    "m.optimize()"
   ]
  },
  {
   "cell_type": "code",
   "execution_count": 8,
   "metadata": {},
   "outputs": [
    {
     "name": "stdout",
     "output_type": "stream",
     "text": [
      "\n",
      "    Variable            X \n",
      "-------------------------\n",
      "         nx2            4 \n",
      "         nx4            7 \n",
      "         nx6           10 \n"
     ]
    }
   ],
   "source": [
    "# Get the Optimal Solution for X\n",
    "m.printAttr('X')"
   ]
  },
  {
   "cell_type": "code",
   "execution_count": 9,
   "metadata": {},
   "outputs": [
    {
     "data": {
      "text/plain": [
       "21.0"
      ]
     },
     "execution_count": 9,
     "metadata": {},
     "output_type": "execute_result"
    }
   ],
   "source": [
    "# Get the Optimal Objective Value\n",
    "m.ObjVal"
   ]
  },
  {
   "cell_type": "code",
   "execution_count": null,
   "metadata": {},
   "outputs": [],
   "source": []
  },
  {
   "cell_type": "code",
   "execution_count": null,
   "metadata": {},
   "outputs": [],
   "source": []
  }
 ],
 "metadata": {
  "kernelspec": {
   "display_name": "Python 3",
   "language": "python",
   "name": "python3"
  },
  "language_info": {
   "codemirror_mode": {
    "name": "ipython",
    "version": 3
   },
   "file_extension": ".py",
   "mimetype": "text/x-python",
   "name": "python",
   "nbconvert_exporter": "python",
   "pygments_lexer": "ipython3",
   "version": "3.7.6"
  }
 },
 "nbformat": 4,
 "nbformat_minor": 4
}
