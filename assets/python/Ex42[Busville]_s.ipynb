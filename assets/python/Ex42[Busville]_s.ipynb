{
 "cells": [
  {
   "cell_type": "code",
   "execution_count": 1,
   "metadata": {},
   "outputs": [],
   "source": [
    "from gurobipy import *  # import the optimize solver Gurobi"
   ]
  },
  {
   "cell_type": "code",
   "execution_count": 2,
   "metadata": {},
   "outputs": [
    {
     "name": "stdout",
     "output_type": "stream",
     "text": [
      "Using license file C:\\Users\\chaoz\\gurobi_licence\\gurobi.lic\n",
      "Academic license - for non-commercial use only\n"
     ]
    }
   ],
   "source": [
    "number_of_region = 3 # Set the index i for region: regions 1, 2 and 3\n",
    "number_of_school = 3 # Set the index j for school of regions 1, 2 and 3 \n",
    "number_of_racial = 2 # Set the index k for racial: white and black\n",
    "m = Model() # Import and create the model"
   ]
  },
  {
   "cell_type": "code",
   "execution_count": 3,
   "metadata": {},
   "outputs": [],
   "source": [
    "# Set the input Parameter: \n",
    "distance = [[0, 3, 5], [3, 0, 4],[5, 4, 0]]  # distance miles from region i to school j  \n",
    "cap_school = 300  # capability of each school \n",
    "white = [210, 210, 180] # number of students from region i in racial white\n",
    "black = [120, 30, 150]  # number of students from region i in racial black\n",
    "target = 100 # the number of black students should be equal to 100"
   ]
  },
  {
   "cell_type": "code",
   "execution_count": 4,
   "metadata": {},
   "outputs": [],
   "source": [
    "# Set the Variable list: number of students from region i to school j in racial k(white nw and black nb)\n",
    "# Set the variable nw and nb to integer number\n",
    "nw = [[0, 0, 0], [0, 0, 0], [0, 0, 0]]\n",
    "for i in range(number_of_region):\n",
    "    for j in range(number_of_school):\n",
    "        nw[i][j] = m.addVar(vtype=GRB.INTEGER, name='nw{}'.format(str(i + 1) + str(j + 1)))\n",
    "    \n",
    "nb = [[0, 0, 0], [0, 0, 0], [0, 0, 0]]\n",
    "for i in range(number_of_region):\n",
    "    for j in range(number_of_school):\n",
    "        nb[i][j] = m.addVar(vtype=GRB.INTEGER, name='nb{}'.format(str(i + 1) + str(j + 1)))"
   ]
  },
  {
   "cell_type": "code",
   "execution_count": 5,
   "metadata": {},
   "outputs": [],
   "source": [
    "# Caculate total numbers allocated to each region i for racial k\n",
    "t1 = []\n",
    "for i in range(number_of_region):\n",
    "    t1.append(sum([nw[i][j] for j in range(number_of_school)]))\n",
    "\n",
    "t2 = []\n",
    "for i in range(number_of_region):\n",
    "    t2.append(sum([nb[i][j] for j in range(number_of_school)]))\n",
    "    \n",
    "# Caculate total numbers allocated to each school j for racial k\n",
    "t3 = []\n",
    "for j in range(number_of_school):\n",
    "    t3.append(sum([nw[i][j] for i in range(number_of_region)]))\n",
    "    \n",
    "t4 = []\n",
    "for j in range(number_of_school):\n",
    "    t4.append(sum([nb[i][j] for i in range(number_of_region)]))"
   ]
  },
  {
   "cell_type": "code",
   "execution_count": 6,
   "metadata": {},
   "outputs": [],
   "source": [
    "# Set the Minimize Obijective: Total distance from region to school\n",
    "m.setObjective((quicksum([nw[i][j] * distance[i][j] for i, j in [(x, y ) for x in range(number_of_region) for y in range (number_of_school)]])) + (quicksum([nb[i][j] * distance[i][j] for i, j in [(x, y ) for x in range(number_of_region) for y in range (number_of_school)]])),  GRB.MINIMIZE)"
   ]
  },
  {
   "cell_type": "code",
   "execution_count": 7,
   "metadata": {},
   "outputs": [],
   "source": [
    "# Set Non Negative number of students\n",
    "for i in range(number_of_region):\n",
    "     for j in range(number_of_school):\n",
    "            c1 = m.addConstr(nw[i][j]  >= 0)\n",
    "\n",
    "for i in range(number_of_region):\n",
    "     for j in range(number_of_school):\n",
    "            c2 = m.addConstr(nb[i][j]  >= 0)"
   ]
  },
  {
   "cell_type": "code",
   "execution_count": 8,
   "metadata": {},
   "outputs": [],
   "source": [
    "# Number of students for each school required as 300\n",
    "c3 = []\n",
    "for i in range(number_of_region):\n",
    "    c3.append(m.addConstr((t1[i] + t2[i]) == cap_school))"
   ]
  },
  {
   "cell_type": "code",
   "execution_count": 9,
   "metadata": {},
   "outputs": [],
   "source": [
    "# Number of black students for each school need to meet target\n",
    "c4 = []\n",
    "for i in range(number_of_region):\n",
    "    c4.append(m.addConstr(t2[i] == target))"
   ]
  },
  {
   "cell_type": "code",
   "execution_count": 10,
   "metadata": {},
   "outputs": [],
   "source": [
    "# Number of students are equal to the students from region i in racial white \n",
    "c5 = []\n",
    "for j in range(number_of_school):\n",
    "    c5.append(m.addConstr(t3[j] == white[j]))"
   ]
  },
  {
   "cell_type": "code",
   "execution_count": 11,
   "metadata": {},
   "outputs": [],
   "source": [
    "# Number of students are equal to the students from region i in racial white \n",
    "c6 = []\n",
    "for j in range(number_of_school):\n",
    "    c6.append(m.addConstr(t4[j] == black[j]))"
   ]
  },
  {
   "cell_type": "code",
   "execution_count": 12,
   "metadata": {},
   "outputs": [
    {
     "name": "stdout",
     "output_type": "stream",
     "text": [
      "Gurobi Optimizer version 9.0.1 build v9.0.1rc0 (win64)\n",
      "Optimize a model with 30 rows, 18 columns and 63 nonzeros\n",
      "Model fingerprint: 0xb388f0c9\n",
      "Variable types: 0 continuous, 18 integer (0 binary)\n",
      "Coefficient statistics:\n",
      "  Matrix range     [1e+00, 1e+00]\n",
      "  Objective range  [3e+00, 5e+00]\n",
      "  Bounds range     [0e+00, 0e+00]\n",
      "  RHS range        [3e+01, 3e+02]\n",
      "Found heuristic solution: objective 2750.0000000\n",
      "Presolve removed 24 rows and 9 columns\n",
      "Presolve time: 0.00s\n",
      "Presolved: 6 rows, 9 columns, 18 nonzeros\n",
      "Found heuristic solution: objective 910.0000000\n",
      "Variable types: 0 continuous, 9 integer (0 binary)\n",
      "\n",
      "Root relaxation: objective 3.500000e+02, 3 iterations, 0.00 seconds\n",
      "\n",
      "    Nodes    |    Current Node    |     Objective Bounds      |     Work\n",
      " Expl Unexpl |  Obj  Depth IntInf | Incumbent    BestBd   Gap | It/Node Time\n",
      "\n",
      "*    0     0               0     350.0000000  350.00000  0.00%     -    0s\n",
      "\n",
      "Explored 0 nodes (3 simplex iterations) in 0.06 seconds\n",
      "Thread count was 8 (of 8 available processors)\n",
      "\n",
      "Solution count 3: 350 910 2750 \n",
      "\n",
      "Optimal solution found (tolerance 1.00e-04)\n",
      "Best objective 3.500000000000e+02, best bound 3.500000000000e+02, gap 0.0000%\n"
     ]
    }
   ],
   "source": [
    "# Run the optimize solver\n",
    "m.optimize()"
   ]
  },
  {
   "cell_type": "code",
   "execution_count": 13,
   "metadata": {},
   "outputs": [
    {
     "name": "stdout",
     "output_type": "stream",
     "text": [
      "\n",
      "    Variable            X \n",
      "-------------------------\n",
      "        nw11          200 \n",
      "        nw22          200 \n",
      "        nw31           10 \n",
      "        nw32           10 \n",
      "        nw33          180 \n",
      "        nb11          100 \n",
      "        nb21           20 \n",
      "        nb22           30 \n",
      "        nb23           50 \n",
      "        nb33          100 \n"
     ]
    }
   ],
   "source": [
    "# Get the Optimal Solution for X\n",
    "m.printAttr('X')"
   ]
  },
  {
   "cell_type": "code",
   "execution_count": 14,
   "metadata": {},
   "outputs": [
    {
     "data": {
      "text/plain": [
       "350.0"
      ]
     },
     "execution_count": 14,
     "metadata": {},
     "output_type": "execute_result"
    }
   ],
   "source": [
    "# Get the Optimal Objective Value\n",
    "m.ObjVal"
   ]
  },
  {
   "cell_type": "code",
   "execution_count": null,
   "metadata": {},
   "outputs": [],
   "source": []
  },
  {
   "cell_type": "code",
   "execution_count": null,
   "metadata": {},
   "outputs": [],
   "source": []
  }
 ],
 "metadata": {
  "kernelspec": {
   "display_name": "Python 3",
   "language": "python",
   "name": "python3"
  },
  "language_info": {
   "codemirror_mode": {
    "name": "ipython",
    "version": 3
   },
   "file_extension": ".py",
   "mimetype": "text/x-python",
   "name": "python",
   "nbconvert_exporter": "python",
   "pygments_lexer": "ipython3",
   "version": "3.7.6"
  }
 },
 "nbformat": 4,
 "nbformat_minor": 4
}
