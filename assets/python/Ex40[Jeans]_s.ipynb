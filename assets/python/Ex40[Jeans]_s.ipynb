{
 "cells": [
  {
   "cell_type": "code",
   "execution_count": 1,
   "metadata": {},
   "outputs": [],
   "source": [
    "from gurobipy import *"
   ]
  },
  {
   "cell_type": "code",
   "execution_count": 2,
   "metadata": {},
   "outputs": [],
   "source": [
    "def formulation():\n",
    "    # declare model\n",
    "    model_jeans = Model(name='jeans_production')\n",
    "    \n",
    "    # decision variables x_i, integers\n",
    "    # the number of type i workers to hire, i = 0 ~ 3 (Python index starts from 0)\n",
    "    # 4 types in total:\n",
    "    # type 0 works Q1,Q2,Q3\n",
    "    # type 1 works Q2,Q3,Q4\n",
    "    # type 2 works Q3,Q4,Q1\n",
    "    # type 3 works Q4,Q1,Q2\n",
    "    x = model_jeans.addVars(4, lb=0, vtype=GRB.INTEGER, name='worker')\n",
    "    \n",
    "    # decision variables y_i\n",
    "    # total production in quarter i+1, i = 0 ~ 3\n",
    "    y = model_jeans.addVars(4, lb=0, vtype=GRB.INTEGER, name='production')\n",
    "    \n",
    "    # derived variables z_i\n",
    "    # total inventory at the end of quarter i+1, i = 0 ~ 3\n",
    "    z = model_jeans.addVars(4, lb=0, vtype=GRB.INTEGER, name='inventory')\n",
    "    \n",
    "    # objective function\n",
    "    # minimize total cost: labor cost + holding cost\n",
    "    # = 600*3*(x0+x1+x2+x3) + 10*(z0+z1+z2)\n",
    "    # (if -20*z3 is included, the problem is unbounded because z3 can be infinitely large)\n",
    "    model_jeans.setObjective(600 * 3 * quicksum(x[i] for i in range(4))\n",
    "                             + 10 * quicksum(z[i] for i in range(3)),\n",
    "                             GRB.MINIMIZE)\n",
    "    \n",
    "    # production constraints, up to 600 pairs of jeans per worker\n",
    "    # (quarter_schedule[0] = [1,0,1,1] means x0,x2,x3 are working in Q1, etc.)\n",
    "    quarter_schedule = [[1,0,1,1], [1,1,0,1], [1,1,1,0], [0,1,1,1]]\n",
    "    model_jeans.addConstrs(y[i] <= 600 * quicksum(quarter_schedule[i][j] * x[j] for j in range(4))\n",
    "                                   for i in range(4))\n",
    "    \n",
    "    # parameters\n",
    "    # demand d_i of quarter i+1, i = 0 ~ 3\n",
    "    d = [4000, 7000, 8000, 3000]\n",
    "    \n",
    "    # inventory constraints\n",
    "    model_jeans.addConstr(z[0] == y[0] - d[0])                                # Q1\n",
    "    model_jeans.addConstrs(z[i] == z[i-1] + y[i] - d[i] for i in range(1,4))  # Q2 ~ Q4\n",
    "    \n",
    "    return model_jeans"
   ]
  },
  {
   "cell_type": "code",
   "execution_count": 3,
   "metadata": {},
   "outputs": [],
   "source": [
    "def check_solve(model):\n",
    "    model.printStats()\n",
    "    print()\n",
    "    model.optimize()\n",
    "    model.printQuality()\n",
    "    return model.objVal"
   ]
  },
  {
   "cell_type": "code",
   "execution_count": 4,
   "metadata": {},
   "outputs": [
    {
     "name": "stdout",
     "output_type": "stream",
     "text": [
      "Using license file C:\\Users\\yuwen\\gurobi.lic\n",
      "Academic license - for non-commercial use only\n"
     ]
    }
   ],
   "source": [
    "model_jeans = formulation()"
   ]
  },
  {
   "cell_type": "code",
   "execution_count": 5,
   "metadata": {
    "scrolled": false
   },
   "outputs": [
    {
     "name": "stdout",
     "output_type": "stream",
     "text": [
      "\n",
      "Statistics for model jeans_production :\n",
      "  Linear constraint matrix    : 0 Constrs, 0 Vars, 0 NZs\n",
      "  Matrix coefficient range    : [ 0, 0 ]\n",
      "  Objective coefficient range : [ 0, 0 ]\n",
      "  Variable bound range        : [ 0, 0 ]\n",
      "  RHS coefficient range       : [ 0, 0 ]\n",
      "\n",
      "Gurobi Optimizer version 9.0.0 build v9.0.0rc2 (win64)\n",
      "Optimize a model with 8 rows, 12 columns and 27 nonzeros\n",
      "Model fingerprint: 0x985b3b08\n",
      "Variable types: 0 continuous, 12 integer (0 binary)\n",
      "Coefficient statistics:\n",
      "  Matrix range     [1e+00, 6e+02]\n",
      "  Objective range  [1e+01, 2e+03]\n",
      "  Bounds range     [0e+00, 0e+00]\n",
      "  RHS range        [3e+03, 8e+03]\n",
      "Found heuristic solution: objective 46800.000000\n",
      "Presolve removed 2 rows and 3 columns\n",
      "Presolve time: 0.00s\n",
      "Presolved: 6 rows, 9 columns, 22 nonzeros\n",
      "Variable types: 0 continuous, 9 integer (0 binary)\n",
      "\n",
      "Root relaxation: objective 2.400000e+04, 8 iterations, 0.00 seconds\n",
      "\n",
      "    Nodes    |    Current Node    |     Objective Bounds      |     Work\n",
      " Expl Unexpl |  Obj  Depth IntInf | Incumbent    BestBd   Gap | It/Node Time\n",
      "\n",
      "     0     0 24000.0000    0    2 46800.0000 24000.0000  48.7%     -    0s\n",
      "H    0     0                    25200.000000 24000.0000  4.76%     -    0s\n",
      "     0     0     cutoff    0      25200.0000 25200.0000  0.00%     -    0s\n",
      "\n",
      "Cutting planes:\n",
      "  MIR: 2\n",
      "\n",
      "Explored 1 nodes (8 simplex iterations) in 0.04 seconds\n",
      "Thread count was 8 (of 8 available processors)\n",
      "\n",
      "Solution count 2: 25200 46800 \n",
      "\n",
      "Optimal solution found (tolerance 1.00e-04)\n",
      "Best objective 2.520000000000e+04, best bound 2.520000000000e+04, gap 0.0000%\n",
      "\n",
      "Solution quality statistics for model jeans_production :\n",
      "  Maximum violation:\n",
      "    Bound       : 0.00000000e+00\n",
      "    Constraint  : 0.00000000e+00\n",
      "    Integrality : 0.00000000e+00\n"
     ]
    }
   ],
   "source": [
    "total_cost = check_solve(model_jeans)"
   ]
  },
  {
   "cell_type": "markdown",
   "metadata": {},
   "source": [
    "# Print value for decision variables"
   ]
  },
  {
   "cell_type": "code",
   "execution_count": 6,
   "metadata": {},
   "outputs": [
    {
     "name": "stdout",
     "output_type": "stream",
     "text": [
      "\n",
      "    Variable            X \n",
      "-------------------------\n",
      "   worker[0]            8 \n",
      "   worker[1]            6 \n",
      "production[0]         4000 \n",
      "production[1]         7000 \n",
      "production[2]         8000 \n",
      "production[3]         3600 \n",
      "inventory[3]          600 \n"
     ]
    }
   ],
   "source": [
    "model_jeans.printAttr('X')"
   ]
  },
  {
   "cell_type": "code",
   "execution_count": 8,
   "metadata": {},
   "outputs": [
    {
     "name": "stdout",
     "output_type": "stream",
     "text": [
      "Total cost: 25200.0\n",
      "\n",
      "Number of workers to hire:\n",
      "Type 0: 8.0\n",
      "Type 1: 6.0\n",
      "Type 2: -0.0\n",
      "Type 3: -0.0\n",
      "\n",
      "Total production of each quarter:\n",
      "Quarter 1: 4000.0\n",
      "Quarter 2: 7000.0\n",
      "Quarter 3: 8000.0\n",
      "Quarter 4: 3600.0\n",
      "\n",
      "Inventory at the end of\n",
      "Quarter 1: 0.0\n",
      "Quarter 2: -0.0\n",
      "Quarter 3: -0.0\n",
      "Quarter 4: 600.0\n"
     ]
    }
   ],
   "source": [
    "print('Total cost: {}'.format(total_cost))\n",
    "\n",
    "print()\n",
    "print('Number of workers to hire:')\n",
    "x = [v.x for v in model_jeans.getVars() if v.varName.startswith('worker')]\n",
    "for i in range(len(x)):\n",
    "    print('Type {}: {}'.format(i, x[i]))\n",
    "\n",
    "print()\n",
    "print('Total production of:')\n",
    "y = [v.x for v in model_jeans.getVars() if v.varName.startswith('production')]\n",
    "for i in range(len(y)):\n",
    "    print('Quarter {}: {}'.format(i+1, y[i]))\n",
    "    \n",
    "print()\n",
    "print('Inventory at the end of')\n",
    "z = [v.x for v in model_jeans.getVars() if v.varName.startswith('inventory')]\n",
    "for i in range(len(y)):\n",
    "    print('Quarter {}: {}'.format(i+1, z[i]))"
   ]
  },
  {
   "cell_type": "code",
   "execution_count": null,
   "metadata": {},
   "outputs": [],
   "source": []
  }
 ],
 "metadata": {
  "kernelspec": {
   "display_name": "Python 3",
   "language": "python",
   "name": "python3"
  },
  "language_info": {
   "codemirror_mode": {
    "name": "ipython",
    "version": 3
   },
   "file_extension": ".py",
   "mimetype": "text/x-python",
   "name": "python",
   "nbconvert_exporter": "python",
   "pygments_lexer": "ipython3",
   "version": "3.7.4"
  }
 },
 "nbformat": 4,
 "nbformat_minor": 2
}
