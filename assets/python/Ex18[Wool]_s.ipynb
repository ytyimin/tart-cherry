{
 "cells": [
  {
   "cell_type": "code",
   "execution_count": 1,
   "metadata": {},
   "outputs": [],
   "source": [
    "from gurobipy import *  # import the optimize solver Gurobi"
   ]
  },
  {
   "cell_type": "code",
   "execution_count": 2,
   "metadata": {},
   "outputs": [
    {
     "name": "stdout",
     "output_type": "stream",
     "text": [
      "Using license file C:\\Users\\chaoz\\gurobi_licence\\gurobi.lic\n",
      "Academic license - for non-commercial use only\n"
     ]
    }
   ],
   "source": [
    "number_of_clothing = 2 # Set the index i for number types of clothing(winter clothing of northerner, winter clothing of southerner)\n",
    "number_of_wool = 2 # Set the index j for number types of wool(wool yarns 1 and 2)\n",
    "m = Model() # Import and create the model"
   ]
  },
  {
   "cell_type": "code",
   "execution_count": 3,
   "metadata": {},
   "outputs": [],
   "source": [
    "# Set the input Parameter: \n",
    "warmth_rate1 = [5, 10] # Warmth rating of winter clothing\n",
    "warmth_rate2 = [3, 10] # Warmth rating of wool yarn\n",
    "profit = [100, 150] # Minimum fraction of material needed fro each drink\n",
    "wool_lim = [100000, 150000]  # Availability of material wool yarn"
   ]
  },
  {
   "cell_type": "code",
   "execution_count": 4,
   "metadata": {},
   "outputs": [],
   "source": [
    "# Set the Variable list: Ounces of material j to be allocated to drink type i\n",
    "# Set the variable to integer number\n",
    "nx = [[0, 0], [0, 0]]\n",
    "for i in range(number_of_clothing):\n",
    "    for j in range(number_of_wool):\n",
    "        nx[i][j] = m.addVar(vtype=GRB.INTEGER, name='nx{}'.format(str(i + 1) + str(j + 1)))\n",
    "\n",
    "# Caculate total numbers allocated to each typy of winter clothing\n",
    "t1 = []\n",
    "for i in range(number_of_clothing):\n",
    "    t1.append(sum([nx[i][j] for j in range(number_of_wool)]))\n",
    "    \n",
    "# Caculate total numbers allocated to each typy of material wool yarn\n",
    "t2 = []\n",
    "for j in range(number_of_wool):\n",
    "    t2.append(sum([nx[i][j] for i in range(number_of_clothing)]))"
   ]
  },
  {
   "cell_type": "code",
   "execution_count": 5,
   "metadata": {},
   "outputs": [],
   "source": [
    "# Set the Maximize Obijective: Total profit\n",
    "m.setObjective(quicksum([t1[i] * profit[i] for i in range(number_of_clothing)]) ,  GRB.MAXIMIZE)"
   ]
  },
  {
   "cell_type": "code",
   "execution_count": 6,
   "metadata": {},
   "outputs": [],
   "source": [
    "# Set Non Negative number of order\n",
    "for i in range(number_of_clothing):\n",
    "     for j in range(number_of_wool):\n",
    "            c1 = m.addConstr(nx[i][j]  >= 0)"
   ]
  },
  {
   "cell_type": "code",
   "execution_count": 10,
   "metadata": {},
   "outputs": [],
   "source": [
    "# Satisfy minimum percentage of each material units of in each drink type\n",
    "c2 = []\n",
    "for i in range(number_of_clothing):\n",
    "    c2 = m.addConstr( (t1[i] * warmth_rate1[i]) <= quicksum([nx[i][j] * warmth_rate2[j] for j in range(number_of_wool)]))"
   ]
  },
  {
   "cell_type": "code",
   "execution_count": 11,
   "metadata": {},
   "outputs": [],
   "source": [
    "# Satisfy maximum availability of materials- wool yarns\n",
    "c3 = []\n",
    "for j in range(number_of_wool):\n",
    "    c3 = m.addConstr(t2[j] <= wool_lim[j])"
   ]
  },
  {
   "cell_type": "code",
   "execution_count": 12,
   "metadata": {},
   "outputs": [
    {
     "name": "stdout",
     "output_type": "stream",
     "text": [
      "Gurobi Optimizer version 9.0.1 build v9.0.1rc0 (win64)\n",
      "Optimize a model with 10 rows, 4 columns and 15 nonzeros\n",
      "Model fingerprint: 0x484fe063\n",
      "Variable types: 0 continuous, 4 integer (0 binary)\n",
      "Coefficient statistics:\n",
      "  Matrix range     [1e+00, 7e+00]\n",
      "  Objective range  [1e+02, 2e+02]\n",
      "  Bounds range     [0e+00, 0e+00]\n",
      "  RHS range        [1e+05, 2e+05]\n",
      "Found heuristic solution: objective 1.500000e+07\n",
      "Presolve removed 10 rows and 4 columns\n",
      "Presolve time: 0.05s\n",
      "Presolve: All rows and columns removed\n",
      "\n",
      "Explored 0 nodes (0 simplex iterations) in 0.12 seconds\n",
      "Thread count was 1 (of 8 available processors)\n",
      "\n",
      "Solution count 2: 3.05e+07 \n",
      "\n",
      "Optimal solution found (tolerance 1.00e-04)\n",
      "Best objective 3.050000000000e+07, best bound 3.050000000000e+07, gap 0.0000%\n"
     ]
    }
   ],
   "source": [
    "# Run the optimize solver\n",
    "m.optimize()"
   ]
  },
  {
   "cell_type": "code",
   "execution_count": 13,
   "metadata": {},
   "outputs": [
    {
     "name": "stdout",
     "output_type": "stream",
     "text": [
      "\n",
      "    Variable            X \n",
      "-------------------------\n",
      "        nx11       100000 \n",
      "        nx12        40000 \n",
      "        nx22       110000 \n"
     ]
    }
   ],
   "source": [
    "# Get the Optimal Solution for X\n",
    "m.printAttr('X')"
   ]
  },
  {
   "cell_type": "code",
   "execution_count": 14,
   "metadata": {},
   "outputs": [
    {
     "data": {
      "text/plain": [
       "30500000.0"
      ]
     },
     "execution_count": 14,
     "metadata": {},
     "output_type": "execute_result"
    }
   ],
   "source": [
    "# Get the Optimal Objective Value\n",
    "m.ObjVal"
   ]
  },
  {
   "cell_type": "code",
   "execution_count": null,
   "metadata": {},
   "outputs": [],
   "source": []
  }
 ],
 "metadata": {
  "kernelspec": {
   "display_name": "Python 3",
   "language": "python",
   "name": "python3"
  },
  "language_info": {
   "codemirror_mode": {
    "name": "ipython",
    "version": 3
   },
   "file_extension": ".py",
   "mimetype": "text/x-python",
   "name": "python",
   "nbconvert_exporter": "python",
   "pygments_lexer": "ipython3",
   "version": "3.7.6"
  }
 },
 "nbformat": 4,
 "nbformat_minor": 4
}
