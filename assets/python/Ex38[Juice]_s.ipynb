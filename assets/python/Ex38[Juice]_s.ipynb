{
 "cells": [
  {
   "cell_type": "code",
   "execution_count": 1,
   "metadata": {},
   "outputs": [],
   "source": [
    "from gurobipy import *  # import the optimize solver Gurobi"
   ]
  },
  {
   "cell_type": "code",
   "execution_count": 2,
   "metadata": {},
   "outputs": [
    {
     "name": "stdout",
     "output_type": "stream",
     "text": [
      "Using license file C:\\Users\\chaoz\\gurobi_licence\\gurobi.lic\n",
      "Academic license - for non-commercial use only\n"
     ]
    }
   ],
   "source": [
    "number_of_product = 2 # Set the index for number of juice product(1, 2)\n",
    "number_of_machine = 2 # Set the index for number of machine(1, 2)\n",
    "m = Model() # Import and create the model"
   ]
  },
  {
   "cell_type": "code",
   "execution_count": 3,
   "metadata": {},
   "outputs": [],
   "source": [
    "# Set the input Parameter: \n",
    "machine_hour = [[0.7, 0.75], [0.8, 0.9]] # Machine hours required to produce each type of juice on each machine\n",
    "labor_hour = [[0.75, 0.75], [1.2, 1.0]]  # Labor hours required to produce each type of juice on each machine  \n",
    "unit_cost = [[16.5, 13.5], [18, 14.5]]   # Unit cost to produce each type of juice on each machine \n",
    "demand = [250, 170]  # Demand to produce each type of juice\n",
    "each_machine = [200, 200]   # Labor hour available on each machine\n"
   ]
  },
  {
   "cell_type": "code",
   "execution_count": 4,
   "metadata": {},
   "outputs": [],
   "source": [
    "# Set the Variable list: Number of each type of juice produced on each machine\n",
    "# Set the variable nx to integer number\n",
    "nx = [[0, 0], [0,0]]\n",
    "for i in range(number_of_machine):\n",
    "    for j in range(number_of_product):\n",
    "        nx[i][j] = m.addVar(vtype=GRB.INTEGER, name='nx{}'.format(str(i + 1) + str(j + 1)))"
   ]
  },
  {
   "cell_type": "code",
   "execution_count": 5,
   "metadata": {},
   "outputs": [],
   "source": [
    "# Set the Minimize Obijective: Net Cost\n",
    "m.setObjective(quicksum([sum([unit_cost[i][j] * nx[i][j] for j in range(number_of_product)]) for i in range(number_of_machine)]) ,  GRB.MINIMIZE)"
   ]
  },
  {
   "cell_type": "code",
   "execution_count": 6,
   "metadata": {},
   "outputs": [],
   "source": [
    "# Set Non Negative decision variable\n",
    "for i in range(number_of_machine):\n",
    "     for j in range(number_of_product):\n",
    "            c1 = m.addConstr(nx[i][j]  >= 0)\n"
   ]
  },
  {
   "cell_type": "code",
   "execution_count": 7,
   "metadata": {},
   "outputs": [],
   "source": [
    "# Machine hours constraint\n",
    "c2 = []\n",
    "for i in range(number_of_machine):\n",
    "    c2.append(m.addConstr(sum([machine_hour[i][j]*nx[i][j] for j in range(number_of_product)]) <= each_machine[i]))"
   ]
  },
  {
   "cell_type": "code",
   "execution_count": 8,
   "metadata": {},
   "outputs": [],
   "source": [
    "# Labor hours constraint\n",
    "c3 = m.addConstr( quicksum([sum([labor_hour[i][j]*nx[i][j] for j in range(number_of_product)]) for i in range(number_of_machine)]) <= 500)\n",
    "c7 = m.addConstr( quicksum([sum([labor_hour[i][j]*nx[i][j] for j in range(number_of_product)]) for i in range(number_of_machine)]) >= 380)"
   ]
  },
  {
   "cell_type": "code",
   "execution_count": 9,
   "metadata": {},
   "outputs": [],
   "source": [
    "# Production Demand constraint\n",
    "c4 = []\n",
    "for j in range(number_of_product):\n",
    "    c4.append(m.addConstr(sum([nx[i][j] for i in range(number_of_machine)]) >= demand[j]))"
   ]
  },
  {
   "cell_type": "code",
   "execution_count": 10,
   "metadata": {},
   "outputs": [],
   "source": [
    "# Demand to produce each type of juice on each machine(at least half of the product 1 requirement must be produced on machine 2, and at least half of the product 2 requirement must be produced on machine 1)\n",
    "c5 = m.addConstr(nx[0][1] >= 1/2 * demand[1])\n",
    "c6 = m.addConstr(nx[1][0] >= 1/2 * demand[0])"
   ]
  },
  {
   "cell_type": "code",
   "execution_count": 11,
   "metadata": {},
   "outputs": [
    {
     "name": "stdout",
     "output_type": "stream",
     "text": [
      "Gurobi Optimizer version 9.0.1 build v9.0.1rc0 (win64)\n",
      "Optimize a model with 12 rows, 4 columns and 22 nonzeros\n",
      "Model fingerprint: 0xbf13db20\n",
      "Variable types: 0 continuous, 4 integer (0 binary)\n",
      "Coefficient statistics:\n",
      "  Matrix range     [7e-01, 1e+00]\n",
      "  Objective range  [1e+01, 2e+01]\n",
      "  Bounds range     [0e+00, 0e+00]\n",
      "  RHS range        [9e+01, 5e+02]\n",
      "Presolve removed 6 rows and 0 columns\n",
      "Presolve time: 0.24s\n",
      "Presolved: 6 rows, 4 columns, 16 nonzeros\n",
      "Variable types: 0 continuous, 4 integer (0 binary)\n",
      "Found heuristic solution: objective 6793.5000000\n",
      "\n",
      "Root relaxation: objective 6.637308e+03, 3 iterations, 0.05 seconds\n",
      "\n",
      "    Nodes    |    Current Node    |     Objective Bounds      |     Work\n",
      " Expl Unexpl |  Obj  Depth IntInf | Incumbent    BestBd   Gap | It/Node Time\n",
      "\n",
      "     0     0 6637.30769    0    4 6793.50000 6637.30769  2.30%     -    0s\n",
      "H    0     0                    6638.0000000 6637.30769  0.01%     -    0s\n",
      "\n",
      "Explored 1 nodes (3 simplex iterations) in 0.48 seconds\n",
      "Thread count was 8 (of 8 available processors)\n",
      "\n",
      "Solution count 2: 6638 6793.5 \n",
      "\n",
      "Optimal solution found (tolerance 1.00e-04)\n",
      "Best objective 6.638000000000e+03, best bound 6.637500000000e+03, gap 0.0075%\n"
     ]
    }
   ],
   "source": [
    "# Run the optimize solver\n",
    "m.optimize()"
   ]
  },
  {
   "cell_type": "code",
   "execution_count": 12,
   "metadata": {},
   "outputs": [
    {
     "name": "stdout",
     "output_type": "stream",
     "text": [
      "\n",
      "    Variable            X \n",
      "-------------------------\n",
      "        nx11          108 \n",
      "        nx12          165 \n",
      "        nx21          142 \n",
      "        nx22            5 \n"
     ]
    }
   ],
   "source": [
    "# Get the Optimal Solution for X\n",
    "m.printAttr('X')"
   ]
  },
  {
   "cell_type": "code",
   "execution_count": 13,
   "metadata": {},
   "outputs": [
    {
     "data": {
      "text/plain": [
       "6638.0"
      ]
     },
     "execution_count": 13,
     "metadata": {},
     "output_type": "execute_result"
    }
   ],
   "source": [
    "# Get the Optimal Objective Value\n",
    "m.ObjVal"
   ]
  },
  {
   "cell_type": "code",
   "execution_count": null,
   "metadata": {},
   "outputs": [],
   "source": []
  }
 ],
 "metadata": {
  "kernelspec": {
   "display_name": "Python 3",
   "language": "python",
   "name": "python3"
  },
  "language_info": {
   "codemirror_mode": {
    "name": "ipython",
    "version": 3
   },
   "file_extension": ".py",
   "mimetype": "text/x-python",
   "name": "python",
   "nbconvert_exporter": "python",
   "pygments_lexer": "ipython3",
   "version": "3.7.6"
  }
 },
 "nbformat": 4,
 "nbformat_minor": 4
}
