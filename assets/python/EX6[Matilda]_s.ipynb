{
 "cells": [
  {
   "cell_type": "code",
   "execution_count": 1,
   "metadata": {},
   "outputs": [],
   "source": [
    "from gurobipy import *  # import the optimize solver Gurobi"
   ]
  },
  {
   "cell_type": "code",
   "execution_count": 2,
   "metadata": {},
   "outputs": [
    {
     "name": "stdout",
     "output_type": "stream",
     "text": [
      "Using license file C:\\Users\\chaoz\\gurobi_licence\\gurobi.lic\n",
      "Academic license - for non-commercial use only\n"
     ]
    }
   ],
   "source": [
    "number_of_item = 2 # Set the index for number of cereal item(kellogg, fruit loops)\n",
    "m = Model() # Import and create the model"
   ]
  },
  {
   "cell_type": "code",
   "execution_count": 3,
   "metadata": {},
   "outputs": [],
   "source": [
    "# Set the input Parameter: \n",
    "unit_weighs = [37, 65]  # Each serving of item Weighs \n",
    "unit_calories = [120, 160]  # Each serving of item contains Calories \n",
    "unit_fat = [5, 10]   # Each serving of item contains Fat\n",
    "taste_index = [95, 85]  # Taste index to each gram for each item\n",
    "weights_lim = 120  # Per day limitations of weight\n",
    "calories_lim = 450  # Per day limitations of calories\n",
    "fat_lim = 25  # Per day limitations of fat"
   ]
  },
  {
   "cell_type": "code",
   "execution_count": 4,
   "metadata": {},
   "outputs": [],
   "source": [
    "# Set the Variable list: Number of servings of each item\n",
    "# Set the variable nx to continuous number\n",
    "nx = [] \n",
    "for i in range(number_of_item):\n",
    "    nx.append(m.addVar(vtype=GRB.CONTINUOUS, name='nx{}'.format(i + 1)))"
   ]
  },
  {
   "cell_type": "code",
   "execution_count": 5,
   "metadata": {},
   "outputs": [],
   "source": [
    "# Set the Maximize Obijective: Total Taste Index\n",
    "m.setObjective(quicksum([taste_index[i]*unit_weighs[i]*nx[i] for i in range(len(nx))]),  GRB.MAXIMIZE)"
   ]
  },
  {
   "cell_type": "code",
   "execution_count": 6,
   "metadata": {},
   "outputs": [],
   "source": [
    "# Set Non Negative decision variable\n",
    "c1 = []\n",
    "for i in range(len(nx)):\n",
    "    c1.append(m.addConstr(nx[i] >= 0))\n",
    "    \n",
    "# Per day limitations of weight constraint\n",
    "c2 = m.addConstr(quicksum([unit_weighs[i]*nx[i] for i in range(len(nx))]) >= weights_lim)\n",
    "\n",
    "# Per day limitations of calories constraint \n",
    "c3 = m.addConstr(quicksum([unit_calories[i]*nx[i] for i in range(len(nx))]) <= calories_lim)\n",
    "\n",
    "# Per day limitations of fat constraint \n",
    "c4 = m.addConstr(quicksum([unit_fat[i]*nx[i] for i in range(len(nx))]) <= fat_lim)"
   ]
  },
  {
   "cell_type": "code",
   "execution_count": 7,
   "metadata": {},
   "outputs": [
    {
     "name": "stdout",
     "output_type": "stream",
     "text": [
      "Gurobi Optimizer version 9.0.1 build v9.0.1rc0 (win64)\n",
      "Optimize a model with 5 rows, 2 columns and 8 nonzeros\n",
      "Model fingerprint: 0x18854c23\n",
      "Coefficient statistics:\n",
      "  Matrix range     [1e+00, 2e+02]\n",
      "  Objective range  [4e+03, 6e+03]\n",
      "  Bounds range     [0e+00, 0e+00]\n",
      "  RHS range        [3e+01, 5e+02]\n",
      "Presolve removed 2 rows and 0 columns\n",
      "Presolve time: 0.02s\n",
      "Presolved: 3 rows, 2 columns, 6 nonzeros\n",
      "\n",
      "Iteration    Objective       Primal Inf.    Dual Inf.      Time\n",
      "       0    1.5539063e+04   8.069000e+00   0.000000e+00      0s\n",
      "       2    1.4753125e+04   0.000000e+00   0.000000e+00      0s\n",
      "\n",
      "Solved in 2 iterations and 0.04 seconds\n",
      "Optimal objective  1.475312500e+04\n"
     ]
    }
   ],
   "source": [
    "# Run the optimize solver\n",
    "m.optimize()"
   ]
  },
  {
   "cell_type": "code",
   "execution_count": 8,
   "metadata": {},
   "outputs": [
    {
     "name": "stdout",
     "output_type": "stream",
     "text": [
      "\n",
      "    Variable            X \n",
      "-------------------------\n",
      "         nx1         1.25 \n",
      "         nx2        1.875 \n"
     ]
    }
   ],
   "source": [
    "# Get the Optimal Solution for X\n",
    "m.printAttr('X')"
   ]
  },
  {
   "cell_type": "code",
   "execution_count": 9,
   "metadata": {},
   "outputs": [
    {
     "data": {
      "text/plain": [
       "14753.125"
      ]
     },
     "execution_count": 9,
     "metadata": {},
     "output_type": "execute_result"
    }
   ],
   "source": [
    "# Get the Optimal Objective Value\n",
    "m.ObjVal"
   ]
  },
  {
   "cell_type": "code",
   "execution_count": null,
   "metadata": {},
   "outputs": [],
   "source": []
  },
  {
   "cell_type": "code",
   "execution_count": null,
   "metadata": {},
   "outputs": [],
   "source": []
  },
  {
   "cell_type": "code",
   "execution_count": null,
   "metadata": {},
   "outputs": [],
   "source": []
  }
 ],
 "metadata": {
  "kernelspec": {
   "display_name": "Python 3",
   "language": "python",
   "name": "python3"
  },
  "language_info": {
   "codemirror_mode": {
    "name": "ipython",
    "version": 3
   },
   "file_extension": ".py",
   "mimetype": "text/x-python",
   "name": "python",
   "nbconvert_exporter": "python",
   "pygments_lexer": "ipython3",
   "version": "3.7.6"
  }
 },
 "nbformat": 4,
 "nbformat_minor": 4
}
