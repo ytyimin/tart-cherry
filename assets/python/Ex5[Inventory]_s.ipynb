{
 "cells": [
  {
   "cell_type": "code",
   "execution_count": 1,
   "metadata": {},
   "outputs": [],
   "source": [
    "from gurobipy import *  # import the optimize solver Gurobi"
   ]
  },
  {
   "cell_type": "code",
   "execution_count": 2,
   "metadata": {},
   "outputs": [
    {
     "name": "stdout",
     "output_type": "stream",
     "text": [
      "Using license file C:\\Users\\chaoz\\gurobi_licence\\gurobi.lic\n",
      "Academic license - for non-commercial use only\n"
     ]
    }
   ],
   "source": [
    "number_of_month = 3 # Set the index for number of month(August, September, October)\n",
    "m = Model() # Import and create the model"
   ]
  },
  {
   "cell_type": "code",
   "execution_count": 3,
   "metadata": {},
   "outputs": [],
   "source": [
    "# Set the input Parameter: \n",
    "unit_cost = [90, 95, 90]  # Bike cost of per unit in each month  \n",
    "unit_holding_cost = 5  # Storage/Holding cost incurred per unit  \n",
    "demand = [40, 45, 35]   # Demand in each month \n",
    "unit_selling_price = [90, 95, 99]  # Bike selling price per unit in each month\n",
    "initial_inventory = 10  # Inventory at the beginning of month August"
   ]
  },
  {
   "cell_type": "code",
   "execution_count": 4,
   "metadata": {},
   "outputs": [],
   "source": [
    "# Set the Variable list: Units of bikes to be ordered  in each month\n",
    "# Set the variable nx to integer number\n",
    "nx = [] \n",
    "for i in range(number_of_month):\n",
    "    nx.append(m.addVar(vtype=GRB.INTEGER, name='nx{}'.format(i + 1)))\n",
    "\n",
    "# Caculate inventory at the end of each month\n",
    "ni = []\n",
    "for i in range(len(nx)):\n",
    "    if i > 0:\n",
    "        initial_inventory = ni[i-1]\n",
    "    xx = nx[i] + initial_inventory - demand[i]\n",
    "    ni.append(xx)"
   ]
  },
  {
   "cell_type": "code",
   "execution_count": 5,
   "metadata": {},
   "outputs": [],
   "source": [
    "# Set the Maximize Obijective: Net Profit\n",
    "m.setObjective(quicksum([unit_selling_price[i]*demand[i] for i in range(len(nx))]) - quicksum([unit_cost[i]*nx[i] for i in range(len(nx))]) - quicksum([unit_holding_cost*ni[i] for i in range(len(nx))]),  GRB.MAXIMIZE)"
   ]
  },
  {
   "cell_type": "code",
   "execution_count": 6,
   "metadata": {},
   "outputs": [],
   "source": [
    "# Set Non Negative decision variable\n",
    "c1 = []\n",
    "for i in range(len(nx)):\n",
    "    c1.append(m.addConstr(nx[i] >= 0))\n",
    "    \n",
    "# End of month inventory ni is non negative \n",
    "c2 = []\n",
    "for i in range(len(nx)):\n",
    "    c2.append(m.addConstr(ni[i] >= 0))"
   ]
  },
  {
   "cell_type": "code",
   "execution_count": 7,
   "metadata": {},
   "outputs": [
    {
     "name": "stdout",
     "output_type": "stream",
     "text": [
      "Gurobi Optimizer version 9.0.1 build v9.0.1rc0 (win64)\n",
      "Optimize a model with 6 rows, 3 columns and 9 nonzeros\n",
      "Model fingerprint: 0x45a26774\n",
      "Coefficient statistics:\n",
      "  Matrix range     [1e+00, 1e+00]\n",
      "  Objective range  [1e+02, 1e+02]\n",
      "  Bounds range     [0e+00, 0e+00]\n",
      "  RHS range        [3e+01, 1e+02]\n",
      "Presolve removed 6 rows and 3 columns\n",
      "Presolve time: 0.03s\n",
      "Presolve: All rows and columns removed\n",
      "Iteration    Objective       Primal Inf.    Dual Inf.      Time\n",
      "       0    1.2150000e+03   0.000000e+00   0.000000e+00      0s\n",
      "\n",
      "Solved in 0 iterations and 0.04 seconds\n",
      "Optimal objective  1.215000000e+03\n"
     ]
    }
   ],
   "source": [
    "# Run the optimize solver\n",
    "m.optimize()"
   ]
  },
  {
   "cell_type": "code",
   "execution_count": 8,
   "metadata": {},
   "outputs": [
    {
     "name": "stdout",
     "output_type": "stream",
     "text": [
      "\n",
      "    Variable            X \n",
      "-------------------------\n",
      "         nx1           75 \n",
      "         nx3           35 \n"
     ]
    }
   ],
   "source": [
    "# Get the Optimal Solution for X\n",
    "m.printAttr('X')"
   ]
  },
  {
   "cell_type": "code",
   "execution_count": 9,
   "metadata": {},
   "outputs": [
    {
     "data": {
      "text/plain": [
       "1215.0"
      ]
     },
     "execution_count": 9,
     "metadata": {},
     "output_type": "execute_result"
    }
   ],
   "source": [
    "# Get the Optimal Objective Value\n",
    "m.ObjVal"
   ]
  },
  {
   "cell_type": "code",
   "execution_count": 10,
   "metadata": {},
   "outputs": [
    {
     "data": {
      "text/plain": [
       "[75.0, 0.0, 35.0]"
      ]
     },
     "execution_count": 10,
     "metadata": {},
     "output_type": "execute_result"
    }
   ],
   "source": [
    "# Get the optimal solution list\n",
    "m.X"
   ]
  },
  {
   "cell_type": "code",
   "execution_count": 11,
   "metadata": {},
   "outputs": [
    {
     "name": "stdout",
     "output_type": "stream",
     "text": [
      "[45.0, 0.0, 0.0]\n"
     ]
    }
   ],
   "source": [
    "# Get the end of inventory for each month\n",
    "nin = []\n",
    "initial_inventory = 10\n",
    "for i in range(3):\n",
    "    if i > 0:\n",
    "        initial_inventory = nin[i-1]\n",
    "    xx = m.X[i] + initial_inventory - demand[i]\n",
    "    nin.append(xx)\n",
    "print(nin)"
   ]
  },
  {
   "cell_type": "code",
   "execution_count": null,
   "metadata": {},
   "outputs": [],
   "source": []
  },
  {
   "cell_type": "code",
   "execution_count": null,
   "metadata": {},
   "outputs": [],
   "source": []
  }
 ],
 "metadata": {
  "kernelspec": {
   "display_name": "Python 3",
   "language": "python",
   "name": "python3"
  },
  "language_info": {
   "codemirror_mode": {
    "name": "ipython",
    "version": 3
   },
   "file_extension": ".py",
   "mimetype": "text/x-python",
   "name": "python",
   "nbconvert_exporter": "python",
   "pygments_lexer": "ipython3",
   "version": "3.7.6"
  }
 },
 "nbformat": 4,
 "nbformat_minor": 4
}
