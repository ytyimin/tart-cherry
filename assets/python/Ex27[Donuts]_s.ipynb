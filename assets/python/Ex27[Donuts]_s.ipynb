{
 "cells": [
  {
   "cell_type": "code",
   "execution_count": 1,
   "metadata": {},
   "outputs": [],
   "source": [
    "from gurobipy import *  # import the optimize solver Gurobi"
   ]
  },
  {
   "cell_type": "code",
   "execution_count": 2,
   "metadata": {},
   "outputs": [
    {
     "name": "stdout",
     "output_type": "stream",
     "text": [
      "Using license file C:\\Users\\chaoz\\gurobi_licence\\gurobi.lic\n",
      "Academic license - for non-commercial use only\n"
     ]
    }
   ],
   "source": [
    "number_of_shop = 2 # Set the index i for number of shop(shop 1, shop 2)\n",
    "number_of_type = 3 # Set the index j for number of donuts type(Glazed, powered, filled)\n",
    "m = Model() # Import and create the model"
   ]
  },
  {
   "cell_type": "code",
   "execution_count": 3,
   "metadata": {},
   "outputs": [],
   "source": [
    "cost = [[0.2, 0.4, 0.5], [0.5, 0.4, 0.3]] # The unit cost for each type of donuts at shop 1 and shop 2\n",
    "lim = [1000, 500]  #  one donut shop has a limit of 1000 donuts per customer each day and the other shop has a limit of 600\n",
    "demand = [500, 500, 500] # The demand for each type of donuts"
   ]
  },
  {
   "cell_type": "code",
   "execution_count": 4,
   "metadata": {},
   "outputs": [],
   "source": [
    "# Set the Variable list: Number of donuts j that should buy at shop i and set the variable nx to integer\n",
    "nx = [[0, 0, 0], [0, 0, 0]]\n",
    "for i in range(number_of_shop):\n",
    "    for j in range(number_of_type):\n",
    "        nx[i][j] = m.addVar(vtype=GRB.INTEGER, name='nx{}'.format(str(i + 1) + str(j + 1)))"
   ]
  },
  {
   "cell_type": "code",
   "execution_count": 5,
   "metadata": {},
   "outputs": [],
   "source": [
    "# Caculate total number of donuts bought at each shop\n",
    "t1 = []\n",
    "for i in range(number_of_shop):\n",
    "    t1.append(sum([nx[i][j] for j in range(number_of_type)]))\n",
    "\n",
    "# Caculate total number of donuts bought for each of type \n",
    "t2 = []\n",
    "for j in range(number_of_type):\n",
    "    t2.append(sum([nx[i][j] for i in range(number_of_shop)]))"
   ]
  },
  {
   "cell_type": "code",
   "execution_count": 6,
   "metadata": {},
   "outputs": [],
   "source": [
    "# Set the Minimize Obijective: Total Cost\n",
    "m.setObjective(quicksum([nx[i][j] * cost[i][j] for i, j in [(x, y ) for x in range(number_of_shop) for y in range (number_of_type)]]),  GRB.MINIMIZE)"
   ]
  },
  {
   "cell_type": "code",
   "execution_count": 7,
   "metadata": {},
   "outputs": [],
   "source": [
    "# Set Non Negative number of students\n",
    "for i in range(number_of_shop):\n",
    "     for j in range(number_of_type):\n",
    "            c1 = m.addConstr(nx[i][j]  >= 0)"
   ]
  },
  {
   "cell_type": "code",
   "execution_count": 8,
   "metadata": {},
   "outputs": [],
   "source": [
    "# Number of donuts bought at each shop cannot exceed each limitation \n",
    "c2 = []\n",
    "for i in range(number_of_shop):\n",
    "    c2.append(m.addConstr(t1[i] <= lim[i]))"
   ]
  },
  {
   "cell_type": "code",
   "execution_count": 9,
   "metadata": {},
   "outputs": [],
   "source": [
    "# Number of donuts bought fro each type must meet each demand\n",
    "c3 = []\n",
    "for j in range(number_of_type):\n",
    "    c3.append(m.addConstr(t2[j] >= demand[j]))"
   ]
  },
  {
   "cell_type": "code",
   "execution_count": 10,
   "metadata": {},
   "outputs": [
    {
     "name": "stdout",
     "output_type": "stream",
     "text": [
      "Gurobi Optimizer version 9.0.1 build v9.0.1rc0 (win64)\n",
      "Optimize a model with 11 rows, 6 columns and 18 nonzeros\n",
      "Model fingerprint: 0xfc2eeecd\n",
      "Variable types: 0 continuous, 6 integer (0 binary)\n",
      "Coefficient statistics:\n",
      "  Matrix range     [1e+00, 1e+00]\n",
      "  Objective range  [2e-01, 5e-01]\n",
      "  Bounds range     [0e+00, 0e+00]\n",
      "  RHS range        [5e+02, 1e+03]\n",
      "Presolve removed 11 rows and 6 columns\n",
      "Presolve time: 0.10s\n",
      "Presolve: All rows and columns removed\n",
      "\n",
      "Explored 0 nodes (0 simplex iterations) in 0.17 seconds\n",
      "Thread count was 1 (of 8 available processors)\n",
      "\n",
      "Solution count 1: 450 \n",
      "\n",
      "Optimal solution found (tolerance 1.00e-04)\n",
      "Best objective 4.500000000000e+02, best bound 4.500000000000e+02, gap 0.0000%\n"
     ]
    }
   ],
   "source": [
    "# Run the optimize solver\n",
    "m.optimize()"
   ]
  },
  {
   "cell_type": "code",
   "execution_count": 11,
   "metadata": {},
   "outputs": [
    {
     "name": "stdout",
     "output_type": "stream",
     "text": [
      "\n",
      "    Variable            X \n",
      "-------------------------\n",
      "        nx11          500 \n",
      "        nx12          500 \n",
      "        nx23          500 \n"
     ]
    }
   ],
   "source": [
    "# Get the Optimal Solution for X\n",
    "m.printAttr('X')"
   ]
  },
  {
   "cell_type": "code",
   "execution_count": 12,
   "metadata": {},
   "outputs": [
    {
     "data": {
      "text/plain": [
       "450.0"
      ]
     },
     "execution_count": 12,
     "metadata": {},
     "output_type": "execute_result"
    }
   ],
   "source": [
    "# Get the Optimal Objective Value\n",
    "m.ObjVal"
   ]
  },
  {
   "cell_type": "code",
   "execution_count": null,
   "metadata": {},
   "outputs": [],
   "source": []
  }
 ],
 "metadata": {
  "kernelspec": {
   "display_name": "Python 3",
   "language": "python",
   "name": "python3"
  },
  "language_info": {
   "codemirror_mode": {
    "name": "ipython",
    "version": 3
   },
   "file_extension": ".py",
   "mimetype": "text/x-python",
   "name": "python",
   "nbconvert_exporter": "python",
   "pygments_lexer": "ipython3",
   "version": "3.7.6"
  }
 },
 "nbformat": 4,
 "nbformat_minor": 4
}
