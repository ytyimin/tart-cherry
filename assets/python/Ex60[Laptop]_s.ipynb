{
 "cells": [
  {
   "cell_type": "code",
   "execution_count": 1,
   "metadata": {},
   "outputs": [],
   "source": [
    "# import the optimize solver Gurobi and pandas\n",
    "from gurobipy import * "
   ]
  },
  {
   "cell_type": "code",
   "execution_count": 2,
   "metadata": {},
   "outputs": [
    {
     "name": "stdout",
     "output_type": "stream",
     "text": [
      "\n",
      "--------------------------------------------\n",
      "Warning: your license will expire in 9 days\n",
      "--------------------------------------------\n",
      "\n",
      "Using license file C:\\Users\\chaoz\\gurobi_licence\\gurobi.lic\n",
      "Academic license - for non-commercial use only\n"
     ]
    }
   ],
   "source": [
    "number_of_product = 30 # Set the index i for number of product\n",
    "number_of_shelf = 14 # Thare are total 14 shelves\n",
    "m = Model() # Import and create the model"
   ]
  },
  {
   "cell_type": "code",
   "execution_count": 3,
   "metadata": {},
   "outputs": [],
   "source": [
    "# Set the input Parameter: \n",
    "units = [23, 15, 12, 18, 36, 50, 38, 18,32, 30, 42, 31, 11, 25, 57, 48, 32, 32, 39, 27, 5, 29, 14, 38, 34, 19, 6, 55, 52, 2] # units of product i\n",
    "price = [53000, 31000, 25000,40000,75000,103000,82000,40000,69000,66000,93000,70000,26000,55000,121000,104000,72000,73000,81000,63000,13000,60000,36000,79000,68000,41000,17000,111000,113000,12000] # Price of product i\n",
    "max_unit = 60  # Maximum units of product in a shelf"
   ]
  },
  {
   "cell_type": "code",
   "execution_count": 4,
   "metadata": {},
   "outputs": [],
   "source": [
    "# Set the Variable list: Shelf number where product i is kept\n",
    "# Set the variable to binary\n",
    "nx = []\n",
    "for i in range(number_of_product):\n",
    "    k = []\n",
    "    for j in range(number_of_shelf):\n",
    "        k.append(m.addVar(vtype=GRB.BINARY, name='nx{}'.format(str(i + 1) +'&' +str(j + 1))))\n",
    "    nx.append(k)"
   ]
  },
  {
   "cell_type": "code",
   "execution_count": 5,
   "metadata": {},
   "outputs": [],
   "source": [
    "# Caculate the units stocked and price total for each shelf\n",
    "units_stocked = []\n",
    "for j in range(number_of_shelf):\n",
    "    units_stocked.append(quicksum([nx[i][j] * units[i] for i in range(number_of_product)]))\n",
    "\n",
    "price_total = []\n",
    "for j in range(number_of_shelf):\n",
    "    price_total.append(quicksum([nx[i][j] * price[i] for i in range(number_of_product)]))\n",
    "    "
   ]
  },
  {
   "cell_type": "code",
   "execution_count": 6,
   "metadata": {},
   "outputs": [],
   "source": [
    "# Set the Maximize Objective: Total price\n",
    "m.setObjective(sum([price_total[j] for j in range(number_of_shelf)]) ,  GRB.MAXIMIZE)"
   ]
  },
  {
   "cell_type": "code",
   "execution_count": 7,
   "metadata": {},
   "outputs": [],
   "source": [
    "# Meet the constriant that the shelves can hold 60 units of products each\n",
    "m.addConstrs((units_stocked[j] <= 60 for j in range(14)), name='cx')\n",
    "m.update()"
   ]
  },
  {
   "cell_type": "code",
   "execution_count": 8,
   "metadata": {},
   "outputs": [
    {
     "name": "stdout",
     "output_type": "stream",
     "text": [
      "Gurobi Optimizer version 9.0.1 build v9.0.1rc0 (win64)\n",
      "Optimize a model with 14 rows, 420 columns and 420 nonzeros\n",
      "Model fingerprint: 0xc0e1be44\n",
      "Variable types: 0 continuous, 420 integer (420 binary)\n",
      "Coefficient statistics:\n",
      "  Matrix range     [2e+00, 6e+01]\n",
      "  Objective range  [1e+04, 1e+05]\n",
      "  Bounds range     [1e+00, 1e+00]\n",
      "  RHS range        [6e+01, 6e+01]\n",
      "Found heuristic solution: objective 1876000.0000\n",
      "Presolve removed 13 rows and 398 columns\n",
      "Presolve time: 0.18s\n",
      "Presolved: 1 rows, 22 columns, 22 nonzeros\n",
      "Found heuristic solution: objective 2147000.0000\n",
      "Variable types: 0 continuous, 22 integer (21 binary)\n",
      "\n",
      "Root relaxation: objective 2.157333e+06, 1 iterations, 0.00 seconds\n",
      "\n",
      "    Nodes    |    Current Node    |     Objective Bounds      |     Work\n",
      " Expl Unexpl |  Obj  Depth IntInf | Incumbent    BestBd   Gap | It/Node Time\n",
      "\n",
      "     0     0 2157333.33    0    1 2147000.00 2157333.33  0.48%     -    0s\n",
      "H    0     0                    2156000.0000 2157333.33  0.06%     -    0s\n",
      "     0     0 2157333.33    0    1 2156000.00 2157333.33  0.06%     -    0s\n",
      "\n",
      "Explored 1 nodes (1 simplex iterations) in 0.36 seconds\n",
      "Thread count was 8 (of 8 available processors)\n",
      "\n",
      "Solution count 3: 2.156e+06 2.147e+06 1.876e+06 \n",
      "\n",
      "Optimal solution found (tolerance 1.00e-04)\n",
      "Best objective 2.156000000000e+06, best bound 2.156000000000e+06, gap 0.0000%\n"
     ]
    }
   ],
   "source": [
    "# Run the optimize solver\n",
    "m.optimize()"
   ]
  },
  {
   "cell_type": "code",
   "execution_count": 9,
   "metadata": {},
   "outputs": [],
   "source": [
    "# Get the Optimal Solution for X\n",
    "import pandas as pd\n",
    "dics = {}\n",
    "for i in range(14):\n",
    "    dics[i] = m.X[i*30 :(i+1)*30]\n",
    "    \n",
    "xxxx = pd.DataFrame(dics).replace(-0.0, 0).astype('int')"
   ]
  },
  {
   "cell_type": "code",
   "execution_count": 10,
   "metadata": {},
   "outputs": [
    {
     "data": {
      "text/plain": [
       "2156000.0"
      ]
     },
     "execution_count": 10,
     "metadata": {},
     "output_type": "execute_result"
    }
   ],
   "source": [
    "# Get the Optimal Objective Value\n",
    "m.ObjVal"
   ]
  },
  {
   "cell_type": "code",
   "execution_count": 11,
   "metadata": {},
   "outputs": [
    {
     "name": "stdout",
     "output_type": "stream",
     "text": [
      "0\n",
      "0\n",
      "0\n",
      "0\n",
      "0\n",
      "320\n",
      "38\n",
      "0\n",
      "115\n",
      "272\n",
      "440\n",
      "0\n",
      "482\n",
      "384\n"
     ]
    }
   ],
   "source": [
    "for j in range(number_of_shelf):\n",
    "    print(sum([xxxx.iloc[i,j] * units[i] for i in range(30)]))"
   ]
  },
  {
   "cell_type": "code",
   "execution_count": null,
   "metadata": {},
   "outputs": [],
   "source": []
  }
 ],
 "metadata": {
  "kernelspec": {
   "display_name": "Python 3",
   "language": "python",
   "name": "python3"
  },
  "language_info": {
   "codemirror_mode": {
    "name": "ipython",
    "version": 3
   },
   "file_extension": ".py",
   "mimetype": "text/x-python",
   "name": "python",
   "nbconvert_exporter": "python",
   "pygments_lexer": "ipython3",
   "version": "3.7.6"
  }
 },
 "nbformat": 4,
 "nbformat_minor": 4
}
