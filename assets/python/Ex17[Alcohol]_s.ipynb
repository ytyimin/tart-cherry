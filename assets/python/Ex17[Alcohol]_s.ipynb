{
 "cells": [
  {
   "cell_type": "code",
   "execution_count": 1,
   "metadata": {},
   "outputs": [],
   "source": [
    "from gurobipy import *  # import the optimize solver Gurobi"
   ]
  },
  {
   "cell_type": "code",
   "execution_count": 2,
   "metadata": {},
   "outputs": [
    {
     "name": "stdout",
     "output_type": "stream",
     "text": [
      "Using license file C:\\Users\\chaoz\\gurobi_licence\\gurobi.lic\n",
      "Academic license - for non-commercial use only\n"
     ]
    }
   ],
   "source": [
    "number_of_drink = 2 # Set the index i for number types of drink(Thunder, Viper)\n",
    "number_of_material = 3 # Set the index j for number types of material(Mixer, Vodka, Whiskey)\n",
    "m = Model() # Import and create the model"
   ]
  },
  {
   "cell_type": "code",
   "execution_count": 3,
   "metadata": {},
   "outputs": [],
   "source": [
    "# Set the input Parameter: \n",
    "selling_price = [5.4, 4.2] # Selling price of drink type i\n",
    "material_needed = [[0, 0.2, 0], [0, 0.1, 0.1]] # Minimum fraction of material needed fro each drink\n",
    "material_lim = [1000, 200, 100]  # Availability of material j"
   ]
  },
  {
   "cell_type": "code",
   "execution_count": 4,
   "metadata": {},
   "outputs": [],
   "source": [
    "# Set the Variable list: Ounces of material j to be allocated to drink type i\n",
    "# Set the variable to integer number\n",
    "nx = [[0, 0, 0], [0, 0, 0]]\n",
    "for i in range(number_of_drink):\n",
    "    for j in range(number_of_material):\n",
    "        nx[i][j] = m.addVar(vtype=GRB.INTEGER, name='nx{}'.format(str(i + 1) + str(j + 1)))\n",
    "\n",
    "# Caculate total ounces allocated to each typy of drink\n",
    "t1 = []\n",
    "for i in range(number_of_drink):\n",
    "    t1.append(sum([nx[i][j] for j in range(number_of_material)]))\n",
    "    \n",
    "# Caculate total ounces allocated to each typy of drink\n",
    "t2 = []\n",
    "for j in range(number_of_material):\n",
    "    t2.append(sum([nx[i][j] for i in range(number_of_drink)]))"
   ]
  },
  {
   "cell_type": "code",
   "execution_count": 5,
   "metadata": {},
   "outputs": [
    {
     "name": "stdout",
     "output_type": "stream",
     "text": [
      "[<gurobi.LinExpr: nx11 + nx21>, <gurobi.LinExpr: nx12 + nx22>, <gurobi.LinExpr: nx13 + nx23>]\n"
     ]
    }
   ],
   "source": [
    "m.update()\n",
    "print(t2)"
   ]
  },
  {
   "cell_type": "code",
   "execution_count": 6,
   "metadata": {},
   "outputs": [],
   "source": [
    "# Set the Maximize Obijective: Total Revenue\n",
    "m.setObjective(quicksum([t1[i] * selling_price[i] for i in range(number_of_drink)]) ,  GRB.MAXIMIZE)"
   ]
  },
  {
   "cell_type": "code",
   "execution_count": 7,
   "metadata": {},
   "outputs": [],
   "source": [
    "# Set Non Negative number of order\n",
    "for i in range(number_of_drink):\n",
    "     for j in range(number_of_material):\n",
    "            c1 = m.addConstr(nx[i][j]  >= 0)"
   ]
  },
  {
   "cell_type": "code",
   "execution_count": 10,
   "metadata": {},
   "outputs": [],
   "source": [
    "# Satisfy minimum percentage of each material units of in each drink type\n",
    "c2 = []\n",
    "for i in range(number_of_drink):\n",
    "    for j in range(number_of_material):\n",
    "        c2 = m.addConstr( (t1[i] * material_needed[i][j] ) <= nx[i][j])"
   ]
  },
  {
   "cell_type": "code",
   "execution_count": 11,
   "metadata": {},
   "outputs": [],
   "source": [
    "# Satisfy maximum availability of materials\n",
    "c3 = []\n",
    "for j in range(number_of_material):\n",
    "    c3 = m.addConstr(t2[j] <= material_lim[j])"
   ]
  },
  {
   "cell_type": "code",
   "execution_count": 12,
   "metadata": {},
   "outputs": [
    {
     "name": "stdout",
     "output_type": "stream",
     "text": [
      "Gurobi Optimizer version 9.0.1 build v9.0.1rc0 (win64)\n",
      "Optimize a model with 18 rows, 6 columns and 30 nonzeros\n",
      "Model fingerprint: 0x89903354\n",
      "Variable types: 0 continuous, 6 integer (0 binary)\n",
      "Coefficient statistics:\n",
      "  Matrix range     [1e-01, 1e+00]\n",
      "  Objective range  [4e+00, 5e+00]\n",
      "  Bounds range     [0e+00, 0e+00]\n",
      "  RHS range        [1e+02, 1e+03]\n",
      "Found heuristic solution: objective 1620.0000000\n",
      "Presolve removed 13 rows and 1 columns\n",
      "Presolve time: 0.00s\n",
      "Presolved: 5 rows, 5 columns, 13 nonzeros\n",
      "Found heuristic solution: objective 5400.0000000\n",
      "Variable types: 0 continuous, 5 integer (0 binary)\n",
      "\n",
      "Root relaxation: objective 6.300000e+03, 3 iterations, 0.39 seconds\n",
      "\n",
      "    Nodes    |    Current Node    |     Objective Bounds      |     Work\n",
      " Expl Unexpl |  Obj  Depth IntInf | Incumbent    BestBd   Gap | It/Node Time\n",
      "\n",
      "*    0     0               0    6300.0000000 6300.00000  0.00%     -    1s\n",
      "\n",
      "Explored 0 nodes (3 simplex iterations) in 1.34 seconds\n",
      "Thread count was 8 (of 8 available processors)\n",
      "\n",
      "Solution count 3: 6300 5400 1620 \n",
      "\n",
      "Optimal solution found (tolerance 1.00e-04)\n",
      "Best objective 6.300000000000e+03, best bound 6.300000000000e+03, gap 0.0000%\n"
     ]
    }
   ],
   "source": [
    "# Run the optimize solver\n",
    "m.optimize()"
   ]
  },
  {
   "cell_type": "code",
   "execution_count": 13,
   "metadata": {},
   "outputs": [
    {
     "name": "stdout",
     "output_type": "stream",
     "text": [
      "\n",
      "    Variable            X \n",
      "-------------------------\n",
      "        nx11          560 \n",
      "        nx12          140 \n",
      "        nx21          440 \n",
      "        nx22           60 \n",
      "        nx23          100 \n"
     ]
    }
   ],
   "source": [
    "# Get the Optimal Solution for X\n",
    "m.printAttr('X')"
   ]
  },
  {
   "cell_type": "code",
   "execution_count": 14,
   "metadata": {},
   "outputs": [
    {
     "data": {
      "text/plain": [
       "6300.0"
      ]
     },
     "execution_count": 14,
     "metadata": {},
     "output_type": "execute_result"
    }
   ],
   "source": [
    "# Get the Optimal Objective Value\n",
    "m.ObjVal"
   ]
  },
  {
   "cell_type": "code",
   "execution_count": null,
   "metadata": {},
   "outputs": [],
   "source": []
  },
  {
   "cell_type": "code",
   "execution_count": null,
   "metadata": {},
   "outputs": [],
   "source": []
  }
 ],
 "metadata": {
  "kernelspec": {
   "display_name": "Python 3",
   "language": "python",
   "name": "python3"
  },
  "language_info": {
   "codemirror_mode": {
    "name": "ipython",
    "version": 3
   },
   "file_extension": ".py",
   "mimetype": "text/x-python",
   "name": "python",
   "nbconvert_exporter": "python",
   "pygments_lexer": "ipython3",
   "version": "3.7.6"
  }
 },
 "nbformat": 4,
 "nbformat_minor": 4
}
