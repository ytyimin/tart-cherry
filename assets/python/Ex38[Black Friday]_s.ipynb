{
 "cells": [
  {
   "cell_type": "code",
   "execution_count": 1,
   "metadata": {},
   "outputs": [],
   "source": [
    "from gurobipy import *  # import the optimize solver Gurobi"
   ]
  },
  {
   "cell_type": "code",
   "execution_count": 2,
   "metadata": {},
   "outputs": [
    {
     "name": "stdout",
     "output_type": "stream",
     "text": [
      "Using license file C:\\Users\\victo\\gurobi.lic\n",
      "Academic license - for non-commercial use only\n"
     ]
    }
   ],
   "source": [
    "number_of_product = 2 # Set the index for number of product(1, 2)\n",
    "number_of_shipping_routes = 2 # Set the index for number of shipping routes(1, 2)\n",
    "m = Model() # Import and create the model"
   ]
  },
  {
   "cell_type": "code",
   "execution_count": 3,
   "metadata": {},
   "outputs": [],
   "source": [
    "# Set the input Parameter: \n",
    "shipping_hour = [[3, 3], [2, 3]] # Shipping days required to ship each type of product on each route\n",
    "labor_hour = [[15, 15.5], [16, 14]]  # Labor hours required to ship each type of product on each route  \n",
    "unit_cost = [[165, 135], [180, 145]]   # Unit cost to ship each type of product on each route \n",
    "demand = [10, 8]  # Demand to ship each type of product\n",
    "each_product = [720, 720]   # hours available on shipping each product"
   ]
  },
  {
   "cell_type": "code",
   "execution_count": 4,
   "metadata": {},
   "outputs": [],
   "source": [
    "# Set the Variable list: Number of each type of product shipped on each route\n",
    "# Set the Variable nx to integer number\n",
    "nx = [[0,0], [0,0]]\n",
    "for i in range(number_of_shipping_routes):\n",
    "    for j in range(number_of_product):\n",
    "        nx[i][j] = m.addVar(vtype=GRB.INTEGER, name='nx{}'.format(str(i + 1) + str(j + 1)))"
   ]
  },
  {
   "cell_type": "code",
   "execution_count": 5,
   "metadata": {},
   "outputs": [],
   "source": [
    "# Set the Minimize Obijective: Net Cost\n",
    "m.setObjective(quicksum([sum([unit_cost[i][j] * nx[i][j] for j in range(number_of_product)]) for i in range(number_of_shipping_routes)]) ,  GRB.MINIMIZE)"
   ]
  },
  {
   "cell_type": "code",
   "execution_count": 6,
   "metadata": {},
   "outputs": [],
   "source": [
    "# Set Non Negative decision variable\n",
    "for i in range(number_of_shipping_routes):\n",
    "     for j in range(number_of_product):\n",
    "            c1 = m.addConstr(nx[i][j]  >= 0)"
   ]
  },
  {
   "cell_type": "code",
   "execution_count": 7,
   "metadata": {},
   "outputs": [],
   "source": [
    "# Shippiing routes constraint\n",
    "c2 = []\n",
    "for i in range(number_of_shipping_routes):\n",
    "    c2.append(m.addConstr(sum([shipping_hour[i][j]*nx[i][j] for j in range(number_of_product)]) <= each_product[i]))"
   ]
  },
  {
   "cell_type": "code",
   "execution_count": 8,
   "metadata": {},
   "outputs": [],
   "source": [
    "# Labor hours constraint\n",
    "c3 = m.addConstr( quicksum([sum([labor_hour[i][j]*nx[i][j] for j in range(number_of_product)]) for i in range(number_of_shipping_routes)]) <= 400)"
   ]
  },
  {
   "cell_type": "code",
   "execution_count": 9,
   "metadata": {},
   "outputs": [],
   "source": [
    "# Production Demand constraint\n",
    "c4 = []\n",
    "for j in range(number_of_product):\n",
    "    c4.append(m.addConstr(sum([nx[i][j] for i in range(number_of_shipping_routes)]) >= demand[j]))"
   ]
  },
  {
   "cell_type": "code",
   "execution_count": 10,
   "metadata": {},
   "outputs": [],
   "source": [
    "# Demand to produce each type of project on each route(at least half of the product 1 requirement must be shipped on route 2, and at least half of the product 2 requirement must be shipped on route 1)\n",
    "c5 = m.addConstr(nx[0][1] >= 1/2 * demand[1])\n",
    "c6 = m.addConstr(nx[1][0] >= 1/2 * demand[0])"
   ]
  },
  {
   "cell_type": "code",
   "execution_count": 11,
   "metadata": {},
   "outputs": [
    {
     "name": "stdout",
     "output_type": "stream",
     "text": [
      "Gurobi Optimizer version 9.0.1 build v9.0.1rc0 (win64)\n",
      "Optimize a model with 11 rows, 4 columns and 18 nonzeros\n",
      "Model fingerprint: 0x814a5bd8\n",
      "Variable types: 0 continuous, 4 integer (0 binary)\n",
      "Coefficient statistics:\n",
      "  Matrix range     [1e+00, 2e+01]\n",
      "  Objective range  [1e+02, 2e+02]\n",
      "  Bounds range     [0e+00, 0e+00]\n",
      "  RHS range        [4e+00, 7e+02]\n",
      "Presolve removed 11 rows and 4 columns\n",
      "Presolve time: 0.00s\n",
      "Presolve: All rows and columns removed\n",
      "\n",
      "Explored 0 nodes (0 simplex iterations) in 0.00 seconds\n",
      "Thread count was 1 (of 8 available processors)\n",
      "\n",
      "Solution count 1: 2805 \n",
      "\n",
      "Optimal solution found (tolerance 1.00e-04)\n",
      "Best objective 2.805000000000e+03, best bound 2.805000000000e+03, gap 0.0000%\n"
     ]
    }
   ],
   "source": [
    "# Run the optimize solver\n",
    "m.optimize()"
   ]
  },
  {
   "cell_type": "code",
   "execution_count": 12,
   "metadata": {},
   "outputs": [
    {
     "name": "stdout",
     "output_type": "stream",
     "text": [
      "\n",
      "    Variable            X \n",
      "-------------------------\n",
      "        nx11            5 \n",
      "        nx12            8 \n",
      "        nx21            5 \n"
     ]
    }
   ],
   "source": [
    "# Get the Optimal Solution for X\n",
    "m.printAttr('X')"
   ]
  },
  {
   "cell_type": "code",
   "execution_count": 13,
   "metadata": {},
   "outputs": [
    {
     "data": {
      "text/plain": [
       "2805.0"
      ]
     },
     "execution_count": 13,
     "metadata": {},
     "output_type": "execute_result"
    }
   ],
   "source": [
    "# Get the Optimal Objective Value\n",
    "m.ObjVal"
   ]
  }
 ],
 "metadata": {
  "kernelspec": {
   "display_name": "Python 3",
   "language": "python",
   "name": "python3"
  },
  "language_info": {
   "codemirror_mode": {
    "name": "ipython",
    "version": 3
   },
   "file_extension": ".py",
   "mimetype": "text/x-python",
   "name": "python",
   "nbconvert_exporter": "python",
   "pygments_lexer": "ipython3",
   "version": "3.7.4"
  }
 },
 "nbformat": 4,
 "nbformat_minor": 2
}
