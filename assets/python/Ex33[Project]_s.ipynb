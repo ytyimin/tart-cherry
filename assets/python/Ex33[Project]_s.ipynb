{
 "cells": [
  {
   "cell_type": "code",
   "execution_count": 1,
   "metadata": {},
   "outputs": [],
   "source": [
    "from gurobipy import *  # import the optimize solver Gurobi"
   ]
  },
  {
   "cell_type": "code",
   "execution_count": 2,
   "metadata": {},
   "outputs": [
    {
     "name": "stdout",
     "output_type": "stream",
     "text": [
      "Using license file C:\\Users\\chaoz\\gurobi_licence\\gurobi.lic\n",
      "Academic license - for non-commercial use only\n"
     ]
    }
   ],
   "source": [
    "number_of_group = 3 # Set the index i for number of group\n",
    "number_of_project = 6 # Set the index j for number of project\n",
    "m = Model() # Import and create the model"
   ]
  },
  {
   "cell_type": "code",
   "execution_count": 3,
   "metadata": {},
   "outputs": [],
   "source": [
    "# Set the input parameters\n",
    "preference = [[5, 5, 9, 9, 8, 8], [7, 4, 5, 6, 4, 5], [9, 8, 8, 4, 4, 9]] # Rating given by group i for project j\n",
    "max_project = 2  # Number of project assigned to each group"
   ]
  },
  {
   "cell_type": "code",
   "execution_count": 4,
   "metadata": {},
   "outputs": [],
   "source": [
    "# Set the Variable list: : Whether group i assigned project j and set the variable nx to binary\n",
    "nx = []\n",
    "for i in range(number_of_group):\n",
    "    k = []\n",
    "    for j in range(number_of_project):\n",
    "        k.append(m.addVar(vtype=GRB.BINARY, name='nx{}'.format(str(i + 1) + str(j + 1))))\n",
    "    nx.append(k)"
   ]
  },
  {
   "cell_type": "code",
   "execution_count": 5,
   "metadata": {},
   "outputs": [],
   "source": [
    "# Caculate total number of projects assigned to each group\n",
    "t1 = []\n",
    "for i in range(number_of_group):\n",
    "    t1.append(sum([nx[i][j] for j in range(number_of_project)]))\n",
    "\n",
    "# Caculate total number of groups for each project \n",
    "t2 = []\n",
    "for j in range(number_of_project):\n",
    "    t2.append(sum([nx[i][j] for i in range(number_of_group)]))"
   ]
  },
  {
   "cell_type": "code",
   "execution_count": 6,
   "metadata": {},
   "outputs": [],
   "source": [
    "# Set the Maximize Obijective: Total satisfatory\n",
    "m.setObjective(quicksum([nx[i][j] * preference[i][j] for i, j in [(x, y ) for x in range(number_of_group) for y in range (number_of_project)]]),  GRB.MAXIMIZE)"
   ]
  },
  {
   "cell_type": "code",
   "execution_count": 7,
   "metadata": {},
   "outputs": [],
   "source": [
    "# Make sure total number of projects assigned to each group meet maximum number\n",
    "c1 = []\n",
    "for i in range(number_of_group):\n",
    "    c1.append(m.addConstr(t1[i] == max_project))"
   ]
  },
  {
   "cell_type": "code",
   "execution_count": 8,
   "metadata": {},
   "outputs": [],
   "source": [
    "# Make sure each project assigned to at least 1 group\n",
    "c2 = []\n",
    "for j in range(number_of_project):\n",
    "    c2.append(m.addConstr(t2[j] >= 1))"
   ]
  },
  {
   "cell_type": "code",
   "execution_count": 9,
   "metadata": {},
   "outputs": [
    {
     "name": "stdout",
     "output_type": "stream",
     "text": [
      "Gurobi Optimizer version 9.0.1 build v9.0.1rc0 (win64)\n",
      "Optimize a model with 9 rows, 18 columns and 36 nonzeros\n",
      "Model fingerprint: 0xa2a9dacc\n",
      "Variable types: 0 continuous, 18 integer (18 binary)\n",
      "Coefficient statistics:\n",
      "  Matrix range     [1e+00, 1e+00]\n",
      "  Objective range  [4e+00, 9e+00]\n",
      "  Bounds range     [1e+00, 1e+00]\n",
      "  RHS range        [1e+00, 2e+00]\n",
      "Found heuristic solution: objective 44.0000000\n",
      "Presolve time: 0.01s\n",
      "Presolved: 9 rows, 18 columns, 36 nonzeros\n",
      "Variable types: 0 continuous, 18 integer (18 binary)\n",
      "\n",
      "Root relaxation: objective 4.700000e+01, 8 iterations, 0.00 seconds\n",
      "\n",
      "    Nodes    |    Current Node    |     Objective Bounds      |     Work\n",
      " Expl Unexpl |  Obj  Depth IntInf | Incumbent    BestBd   Gap | It/Node Time\n",
      "\n",
      "*    0     0               0      47.0000000   47.00000  0.00%     -    0s\n",
      "\n",
      "Explored 0 nodes (8 simplex iterations) in 0.10 seconds\n",
      "Thread count was 8 (of 8 available processors)\n",
      "\n",
      "Solution count 2: 47 44 \n",
      "\n",
      "Optimal solution found (tolerance 1.00e-04)\n",
      "Best objective 4.700000000000e+01, best bound 4.700000000000e+01, gap 0.0000%\n"
     ]
    }
   ],
   "source": [
    "# Run the optimize solver\n",
    "m.optimize()"
   ]
  },
  {
   "cell_type": "code",
   "execution_count": 10,
   "metadata": {},
   "outputs": [
    {
     "name": "stdout",
     "output_type": "stream",
     "text": [
      "\n",
      "    Variable            X \n",
      "-------------------------\n",
      "        nx13            1 \n",
      "        nx15            1 \n",
      "        nx21            1 \n",
      "        nx24            1 \n",
      "        nx32            1 \n",
      "        nx36            1 \n"
     ]
    }
   ],
   "source": [
    "# Get the Optimal Solution for X\n",
    "m.printAttr('X')"
   ]
  },
  {
   "cell_type": "code",
   "execution_count": 11,
   "metadata": {},
   "outputs": [
    {
     "data": {
      "text/plain": [
       "47.0"
      ]
     },
     "execution_count": 11,
     "metadata": {},
     "output_type": "execute_result"
    }
   ],
   "source": [
    "# Get the Optimal Objective Value\n",
    "m.ObjVal"
   ]
  },
  {
   "cell_type": "code",
   "execution_count": null,
   "metadata": {},
   "outputs": [],
   "source": []
  }
 ],
 "metadata": {
  "kernelspec": {
   "display_name": "Python 3",
   "language": "python",
   "name": "python3"
  },
  "language_info": {
   "codemirror_mode": {
    "name": "ipython",
    "version": 3
   },
   "file_extension": ".py",
   "mimetype": "text/x-python",
   "name": "python",
   "nbconvert_exporter": "python",
   "pygments_lexer": "ipython3",
   "version": "3.7.6"
  }
 },
 "nbformat": 4,
 "nbformat_minor": 4
}
