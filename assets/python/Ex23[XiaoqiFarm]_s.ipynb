{
 "cells": [
  {
   "cell_type": "code",
   "execution_count": 1,
   "metadata": {},
   "outputs": [],
   "source": [
    "from gurobipy import *  # import the optimize solver Gurobi"
   ]
  },
  {
   "cell_type": "code",
   "execution_count": 2,
   "metadata": {},
   "outputs": [
    {
     "name": "stdout",
     "output_type": "stream",
     "text": [
      "Using license file C:\\Users\\chaoz\\gurobi_licence\\gurobi.lic\n",
      "Academic license - for non-commercial use only\n"
     ]
    }
   ],
   "source": [
    "number_of_product = 3 # Set the index i for number of type product(Extracted lard oil, lean pork, dish)\n",
    "number_of_j = 3 # Set the index j for two knid of pig(white big, black big) and dish\n",
    "m = Model() # Import and create the model"
   ]
  },
  {
   "cell_type": "code",
   "execution_count": 3,
   "metadata": {},
   "outputs": [],
   "source": [
    "# Set the input Parameter: \n",
    "unit_produce = [[2, 1, 0], [3, 2, 0], [0, 0, 1]]  # Units of product i produced from one unit of j\n",
    "unit_dish = [2, 3, 0] # Units of product i used to produce one unit of dish\n",
    "process_cost = [6, 3, 5] # Processing cost of j\n",
    "quality_level = [8, 7, 6] # Quality level of each unit of product i\n",
    "avg_quality_level = 7  #  Average quality level on units sold\n",
    "selling_price = [5, 4, 25] # Selling price of each unit of product i\n",
    "max_unit = [2000, 2500, 800] # Maximum selling units of product i "
   ]
  },
  {
   "cell_type": "code",
   "execution_count": 6,
   "metadata": {},
   "outputs": [],
   "source": [
    "# Set the Variable list: :Units of j used in the process \n",
    "# Set the variable nx to integer number\n",
    "nx = [] \n",
    "for j in range(number_of_j):\n",
    "    nx.append(m.addVar(vtype=GRB.INTEGER, name='nx{}'.format(j + 1)))"
   ]
  },
  {
   "cell_type": "code",
   "execution_count": 7,
   "metadata": {},
   "outputs": [],
   "source": [
    "# Caculate total products produced in step 1\n",
    "tp = []\n",
    "for i in range(number_of_product):\n",
    "    tp.append(quicksum([unit_produce[i][j] * nx[j] for j in range(number_of_j)]))"
   ]
  },
  {
   "cell_type": "code",
   "execution_count": 8,
   "metadata": {},
   "outputs": [],
   "source": [
    "# Caculate products used to produce dish\n",
    "dish = []\n",
    "for i in range(number_of_product):\n",
    "    dish.append(unit_dish[i] * nx[2])"
   ]
  },
  {
   "cell_type": "code",
   "execution_count": 9,
   "metadata": {},
   "outputs": [],
   "source": [
    "# Caculate units of product i sold\n",
    "sold = []\n",
    "for i in range(number_of_product):\n",
    "    sold.append(tp[i] - dish[i])"
   ]
  },
  {
   "cell_type": "code",
   "execution_count": 11,
   "metadata": {},
   "outputs": [],
   "source": [
    "# Set the Maximize Obijective: Total profit\n",
    "m.setObjective(quicksum([sold[i]*selling_price[i] for i in range(number_of_product)]) - quicksum([nx[j]*process_cost[j] for j in range(number_of_j)]),  GRB.MAXIMIZE)"
   ]
  },
  {
   "cell_type": "code",
   "execution_count": 17,
   "metadata": {},
   "outputs": [],
   "source": [
    "# Set Non Negative decision variable\n",
    "c1 = []\n",
    "for j in range(len(nx)):\n",
    "    c1.append(m.addConstr(nx[j] >= 0))\n",
    "    \n",
    "# units of product i sold cannot exceed maximum selling units \n",
    "c2 = []\n",
    "for i in range(number_of_product):\n",
    "    c2.append(m.addConstr(sold[i] <= max_unit[i]))\n",
    "\n",
    "# Quality level must be beyond the average quality-level \n",
    "c3 = m.addConstr(quicksum([sold[i]*quality_level[i] for i in range(number_of_product)]) >= quicksum([sold[i]*avg_quality_level for i in range(number_of_product)]))\n"
   ]
  },
  {
   "cell_type": "code",
   "execution_count": 18,
   "metadata": {},
   "outputs": [
    {
     "name": "stdout",
     "output_type": "stream",
     "text": [
      "Gurobi Optimizer version 9.0.1 build v9.0.1rc0 (win64)\n",
      "Optimize a model with 28 rows, 3 columns and 42 nonzeros\n",
      "Model fingerprint: 0xaea7c2f7\n",
      "Variable types: 0 continuous, 3 integer (0 binary)\n",
      "Coefficient statistics:\n",
      "  Matrix range     [1e+00, 3e+00]\n",
      "  Objective range  [2e+00, 2e+01]\n",
      "  Bounds range     [0e+00, 0e+00]\n",
      "  RHS range        [8e+02, 3e+03]\n",
      "Found heuristic solution: objective 13328.000000\n",
      "Presolve removed 26 rows and 0 columns\n",
      "Presolve time: 0.06s\n",
      "Presolved: 2 rows, 3 columns, 6 nonzeros\n",
      "Variable types: 0 continuous, 3 integer (0 binary)\n",
      "\n",
      "Root relaxation: objective 2.453300e+04, 1 iterations, 0.03 seconds\n",
      "\n",
      "    Nodes    |    Current Node    |     Objective Bounds      |     Work\n",
      " Expl Unexpl |  Obj  Depth IntInf | Incumbent    BestBd   Gap | It/Node Time\n",
      "\n",
      "     0     0 24533.0000    0    1 13328.0000 24533.0000  84.1%     -    0s\n",
      "H    0     0                    24528.000000 24533.0000  0.02%     -    0s\n",
      "H    0     0                    24532.000000 24533.0000  0.00%     -    0s\n",
      "     0     0 24533.0000    0    1 24532.0000 24533.0000  0.00%     -    0s\n",
      "\n",
      "Explored 1 nodes (1 simplex iterations) in 0.26 seconds\n",
      "Thread count was 8 (of 8 available processors)\n",
      "\n",
      "Solution count 3: 24532 24528 13328 \n",
      "\n",
      "Optimal solution found (tolerance 1.00e-04)\n",
      "Best objective 2.453200000000e+04, best bound 2.453200000000e+04, gap 0.0000%\n"
     ]
    }
   ],
   "source": [
    "# Run the optimize solver\n",
    "m.optimize()"
   ]
  },
  {
   "cell_type": "code",
   "execution_count": 19,
   "metadata": {},
   "outputs": [
    {
     "name": "stdout",
     "output_type": "stream",
     "text": [
      "\n",
      "    Variable            X \n",
      "-------------------------\n",
      "         nx1         1632 \n",
      "         nx2            2 \n",
      "         nx3          800 \n"
     ]
    }
   ],
   "source": [
    "# Get the Optimal Solution for X\n",
    "m.printAttr('X')"
   ]
  },
  {
   "cell_type": "code",
   "execution_count": 20,
   "metadata": {},
   "outputs": [
    {
     "data": {
      "text/plain": [
       "24532.0"
      ]
     },
     "execution_count": 20,
     "metadata": {},
     "output_type": "execute_result"
    }
   ],
   "source": [
    "# Get the Optimal Objective Value\n",
    "m.ObjVal"
   ]
  },
  {
   "cell_type": "code",
   "execution_count": 27,
   "metadata": {},
   "outputs": [
    {
     "name": "stdout",
     "output_type": "stream",
     "text": [
      "Uints sold: <gurobi.LinExpr: 1666.0>\n",
      "Uints sold: <gurobi.LinExpr: 2500.0>\n",
      "Uints sold: <gurobi.LinExpr: 800.0>\n"
     ]
    }
   ],
   "source": [
    "# Get the units sold\n",
    "\n",
    "tp = []\n",
    "for i in range(number_of_product):\n",
    "    tp.append(quicksum([unit_produce[i][j] * m.x[j] for j in range(number_of_j)]))\n",
    "\n",
    "dish = []\n",
    "for i in range(number_of_product):\n",
    "    dish.append(unit_dish[i] * m.x[2])\n",
    "\n",
    "sold = []\n",
    "for i in range(number_of_product):\n",
    "    sold.append(tp[i] - dish[i])\n",
    "    print('Uints sold:', sold[i])"
   ]
  },
  {
   "cell_type": "code",
   "execution_count": null,
   "metadata": {},
   "outputs": [],
   "source": []
  }
 ],
 "metadata": {
  "kernelspec": {
   "display_name": "Python 3",
   "language": "python",
   "name": "python3"
  },
  "language_info": {
   "codemirror_mode": {
    "name": "ipython",
    "version": 3
   },
   "file_extension": ".py",
   "mimetype": "text/x-python",
   "name": "python",
   "nbconvert_exporter": "python",
   "pygments_lexer": "ipython3",
   "version": "3.7.6"
  }
 },
 "nbformat": 4,
 "nbformat_minor": 4
}
