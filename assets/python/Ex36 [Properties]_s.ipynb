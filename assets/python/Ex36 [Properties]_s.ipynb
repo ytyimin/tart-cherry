{
 "cells": [
  {
   "cell_type": "code",
   "execution_count": 1,
   "metadata": {},
   "outputs": [],
   "source": [
    "from gurobipy import *  # import the optimize solver Gurobi"
   ]
  },
  {
   "cell_type": "code",
   "execution_count": 2,
   "metadata": {},
   "outputs": [
    {
     "name": "stdout",
     "output_type": "stream",
     "text": [
      "Using license file C:\\Users\\chaoz\\gurobi_licence\\gurobi.lic\n",
      "Academic license - for non-commercial use only\n"
     ]
    }
   ],
   "source": [
    "number_of_investor = 4 # Set the index i for number of investor\n",
    "number_of_property = 4 # Set the index j for number of property\n",
    "m = Model() # Import and create the model"
   ]
  },
  {
   "cell_type": "code",
   "execution_count": 3,
   "metadata": {},
   "outputs": [],
   "source": [
    "# Set the input parameters\n",
    "offer = [[0, 0, 200, 250], [150, 170, 0, 0], [162, 0, 210, 0], [175, 190, 0, 265]] # Revenue received from i for property j\n",
    "max_property = [2, 1, 1, 1]  # Max number of properties purchased by an inverstor  "
   ]
  },
  {
   "cell_type": "code",
   "execution_count": 4,
   "metadata": {},
   "outputs": [],
   "source": [
    "# Set the Variable list: : Whether property j is sold to inverstor i and set the variable nx to binary\n",
    "nx = []\n",
    "for i in range(number_of_investor):\n",
    "    k = []\n",
    "    for j in range(number_of_property):\n",
    "        k.append(m.addVar(vtype=GRB.BINARY, name='nx{}'.format(str(i + 1) + str(j + 1))))\n",
    "    nx.append(k)"
   ]
  },
  {
   "cell_type": "code",
   "execution_count": 5,
   "metadata": {},
   "outputs": [],
   "source": [
    "# Caculate total number of properties purchased by each inverstor\n",
    "t1 = []\n",
    "for i in range(number_of_investor):\n",
    "    t1.append(sum([nx[i][j] for j in range(number_of_property)]))\n",
    "\n",
    "# Caculate total number of investors for each property \n",
    "t2 = []\n",
    "for j in range(number_of_property):\n",
    "    t2.append(sum([nx[i][j] for i in range(number_of_investor)]))"
   ]
  },
  {
   "cell_type": "code",
   "execution_count": 6,
   "metadata": {},
   "outputs": [],
   "source": [
    "# Set the Maximize Obijective: Total revenue\n",
    "m.setObjective(quicksum([nx[i][j] * offer[i][j] for i, j in [(x, y ) for x in range(number_of_investor) for y in range (number_of_property)]]),  GRB.MAXIMIZE)"
   ]
  },
  {
   "cell_type": "code",
   "execution_count": 7,
   "metadata": {},
   "outputs": [],
   "source": [
    "# Make sure total number of properties sold to each investor not exceed its maximum number\n",
    "c1 = []\n",
    "for i in range(number_of_investor):\n",
    "    c1.append(m.addConstr(t1[i] <= max_property[i]))"
   ]
  },
  {
   "cell_type": "code",
   "execution_count": 8,
   "metadata": {},
   "outputs": [],
   "source": [
    "# Make sure each property can be sold to maximum i investor\n",
    "c2 = []\n",
    "for j in range(number_of_property):\n",
    "    c2.append(m.addConstr(t2[j] <= 1))"
   ]
  },
  {
   "cell_type": "code",
   "execution_count": 9,
   "metadata": {},
   "outputs": [
    {
     "name": "stdout",
     "output_type": "stream",
     "text": [
      "Gurobi Optimizer version 9.0.1 build v9.0.1rc0 (win64)\n",
      "Optimize a model with 8 rows, 16 columns and 32 nonzeros\n",
      "Model fingerprint: 0xb309de7f\n",
      "Variable types: 0 continuous, 16 integer (16 binary)\n",
      "Coefficient statistics:\n",
      "  Matrix range     [1e+00, 1e+00]\n",
      "  Objective range  [2e+02, 3e+02]\n",
      "  Bounds range     [1e+00, 1e+00]\n",
      "  RHS range        [1e+00, 2e+00]\n",
      "Found heuristic solution: objective 790.0000000\n",
      "Presolve removed 8 rows and 16 columns\n",
      "Presolve time: 0.00s\n",
      "Presolve: All rows and columns removed\n",
      "\n",
      "Explored 0 nodes (0 simplex iterations) in 0.04 seconds\n",
      "Thread count was 1 (of 8 available processors)\n",
      "\n",
      "Solution count 2: 805 \n",
      "\n",
      "Optimal solution found (tolerance 1.00e-04)\n",
      "Best objective 8.050000000000e+02, best bound 8.050000000000e+02, gap 0.0000%\n"
     ]
    }
   ],
   "source": [
    "# Run the optimize solver\n",
    "m.optimize()"
   ]
  },
  {
   "cell_type": "code",
   "execution_count": 10,
   "metadata": {},
   "outputs": [
    {
     "name": "stdout",
     "output_type": "stream",
     "text": [
      "\n",
      "    Variable            X \n",
      "-------------------------\n",
      "        nx14            1 \n",
      "        nx22            1 \n",
      "        nx33            1 \n",
      "        nx41            1 \n"
     ]
    }
   ],
   "source": [
    "# Get the Optimal Solution for X\n",
    "m.printAttr('X')"
   ]
  },
  {
   "cell_type": "code",
   "execution_count": 11,
   "metadata": {},
   "outputs": [
    {
     "data": {
      "text/plain": [
       "805.0"
      ]
     },
     "execution_count": 11,
     "metadata": {},
     "output_type": "execute_result"
    }
   ],
   "source": [
    "# Get the Optimal Objective Value\n",
    "m.ObjVal"
   ]
  },
  {
   "cell_type": "code",
   "execution_count": null,
   "metadata": {},
   "outputs": [],
   "source": []
  }
 ],
 "metadata": {
  "kernelspec": {
   "display_name": "Python 3",
   "language": "python",
   "name": "python3"
  },
  "language_info": {
   "codemirror_mode": {
    "name": "ipython",
    "version": 3
   },
   "file_extension": ".py",
   "mimetype": "text/x-python",
   "name": "python",
   "nbconvert_exporter": "python",
   "pygments_lexer": "ipython3",
   "version": "3.7.6"
  }
 },
 "nbformat": 4,
 "nbformat_minor": 4
}
