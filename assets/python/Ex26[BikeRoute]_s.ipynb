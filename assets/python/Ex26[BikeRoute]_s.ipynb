{
 "cells": [
  {
   "cell_type": "code",
   "execution_count": 1,
   "metadata": {},
   "outputs": [],
   "source": [
    "# import the optimize solver Gurobi\n",
    "import gurobipy as gp\n",
    "from gurobipy import * "
   ]
  },
  {
   "cell_type": "code",
   "execution_count": 2,
   "metadata": {},
   "outputs": [
    {
     "name": "stdout",
     "output_type": "stream",
     "text": [
      "Using license file C:\\Users\\chaoz\\gurobi_licence\\gurobi.lic\n",
      "Academic license - for non-commercial use only\n"
     ]
    }
   ],
   "source": [
    "m = Model() # Import and create the model"
   ]
  },
  {
   "cell_type": "code",
   "execution_count": 3,
   "metadata": {},
   "outputs": [],
   "source": [
    "# Set the input Parameter: \n",
    "avg_speed = 5  # The average speed at which he rides is 5 ft/sec \n",
    "stop_time = 3  # Stop sign takes 3 sec.\n",
    "traffic_light_time = 45 # Traffic red light takes 45 sec."
   ]
  },
  {
   "cell_type": "code",
   "execution_count": 4,
   "metadata": {},
   "outputs": [],
   "source": [
    "# Set each node\n",
    "nodes = ['12Fifty5', 'Orange St Jn', 'University TC', 'Lemon St L', 'Lemon St Jn', 'HH Junction', 'DB Junction', 'ASU CP', 'SDFC Side', 'MU Side', 'MCRD']\n",
    "\n",
    "# Set required net outflow\n",
    "\n",
    "net_flow = {}\n",
    "for i in range(len(nodes)):\n",
    "    if i == 0:\n",
    "        net_flow[nodes[i]] = 1\n",
    "    elif i == len(nodes) - 1:\n",
    "        net_flow[nodes[i]] = -1\n",
    "    else:\n",
    "        net_flow[nodes[i]] = 0\n"
   ]
  },
  {
   "cell_type": "code",
   "execution_count": 5,
   "metadata": {},
   "outputs": [],
   "source": [
    "# Set arcs, distance from orign to destination, stop sign and traffic light\n",
    "\n",
    "arcs, distance, stop_sign, traffic_light = gp.multidict({\n",
    "    ('12Fifty5', 'Orange St Jn'):   [300, 1, 0 ],\n",
    "    ('12Fifty5', 'University TC'):  [4000, 1, 1],\n",
    "    ('Orange St Jn', 'Lemon St L'): [465, 1, 0],\n",
    "    ('Orange St Jn',  'Lemon St Jn'):  [500, 0, 0],\n",
    "    ('University TC',  'DB Junction'): [1500, 0, 1],\n",
    "    ('Lemon St L',  'Lemon St Jn'):  [10, 0, 0],\n",
    "    ('Lemon St Jn', 'HH Junction'):   [100, 0, 1],\n",
    "    ('HH Junction', 'DB Junction'):  [500, 0, 1],\n",
    "    ('HH Junction', 'University TC'):  [1700, 0, 1],\n",
    "    ('DB Junction',  'ASU CP'):   [300, 1, 0],\n",
    "    ('ASU CP',  'SDFC Side'): [500, 1, 0],\n",
    "    ('ASU CP',  'MU Side'):  [700, 0, 0],\n",
    "    ('SDFC Side',  'MCRD'):   [0, 0, 0],\n",
    "    ('MU Side',  'MCRD'): [0, 0, 0]})"
   ]
  },
  {
   "cell_type": "code",
   "execution_count": 6,
   "metadata": {},
   "outputs": [],
   "source": [
    "# Caculate travel time for each arcs\n",
    "travel_time = {}\n",
    "for key in arcs:\n",
    "    travel_time[key] = distance[key]/avg_speed + stop_sign[key] * stop_time + traffic_light_time* traffic_light[key]"
   ]
  },
  {
   "cell_type": "code",
   "execution_count": 7,
   "metadata": {},
   "outputs": [],
   "source": [
    "m.update()"
   ]
  },
  {
   "cell_type": "code",
   "execution_count": 8,
   "metadata": {},
   "outputs": [],
   "source": [
    "# Create variables\n",
    "flow = m.addVars(arcs, obj = travel_time, name=\"flow\")"
   ]
  },
  {
   "cell_type": "code",
   "execution_count": 12,
   "metadata": {},
   "outputs": [
    {
     "data": {
      "text/plain": [
       "{'12Fifty5': <gurobi.Constr *Awaiting Model Update*>,\n",
       " 'Orange St Jn': <gurobi.Constr *Awaiting Model Update*>,\n",
       " 'University TC': <gurobi.Constr *Awaiting Model Update*>,\n",
       " 'Lemon St L': <gurobi.Constr *Awaiting Model Update*>,\n",
       " 'Lemon St Jn': <gurobi.Constr *Awaiting Model Update*>,\n",
       " 'HH Junction': <gurobi.Constr *Awaiting Model Update*>,\n",
       " 'DB Junction': <gurobi.Constr *Awaiting Model Update*>,\n",
       " 'ASU CP': <gurobi.Constr *Awaiting Model Update*>,\n",
       " 'SDFC Side': <gurobi.Constr *Awaiting Model Update*>,\n",
       " 'MU Side': <gurobi.Constr *Awaiting Model Update*>,\n",
       " 'MCRD': <gurobi.Constr *Awaiting Model Update*>}"
      ]
     },
     "execution_count": 12,
     "metadata": {},
     "output_type": "execute_result"
    }
   ],
   "source": [
    "# Flow-conservation constraints\n",
    "m.addConstrs(\n",
    "    (flow.sum(i, '*') - flow.sum('*', i) == net_flow[i]\n",
    "        for i in nodes), \"node\")"
   ]
  },
  {
   "cell_type": "code",
   "execution_count": 13,
   "metadata": {},
   "outputs": [
    {
     "name": "stdout",
     "output_type": "stream",
     "text": [
      "Gurobi Optimizer version 9.0.1 build v9.0.1rc0 (win64)\n",
      "Optimize a model with 11 rows, 14 columns and 28 nonzeros\n",
      "Model fingerprint: 0x45a2a77f\n",
      "Coefficient statistics:\n",
      "  Matrix range     [1e+00, 1e+00]\n",
      "  Objective range  [2e+00, 8e+02]\n",
      "  Bounds range     [0e+00, 0e+00]\n",
      "  RHS range        [1e+00, 1e+00]\n",
      "Presolve removed 8 rows and 9 columns\n",
      "Presolve time: 0.02s\n",
      "Presolved: 3 rows, 5 columns, 10 nonzeros\n",
      "\n",
      "Iteration    Objective       Primal Inf.    Dual Inf.      Time\n",
      "       0    3.9200000e+02   2.000000e+00   0.000000e+00      0s\n",
      "       1    5.3700000e+02   0.000000e+00   0.000000e+00      0s\n",
      "\n",
      "Solved in 1 iterations and 0.48 seconds\n",
      "Optimal objective  5.370000000e+02\n"
     ]
    }
   ],
   "source": [
    "# Compute optimal solution\n",
    "m.optimize()"
   ]
  },
  {
   "cell_type": "code",
   "execution_count": 14,
   "metadata": {},
   "outputs": [
    {
     "name": "stdout",
     "output_type": "stream",
     "text": [
      "\n",
      "    Variable            X \n",
      "-------------------------\n",
      "flow[12Fifty5,Orange St Jn]            1 \n",
      "flow[Orange St Jn,Lemon St L]            1 \n",
      "flow[Lemon St L,Lemon St Jn]            1 \n",
      "flow[Lemon St Jn,HH Junction]            1 \n",
      "flow[HH Junction,DB Junction]            1 \n",
      "flow[DB Junction,ASU CP]            1 \n",
      "flow[ASU CP,SDFC Side]            1 \n",
      "flow[SDFC Side,MCRD]            1 \n"
     ]
    }
   ],
   "source": [
    "# m.printAttr('X')"
   ]
  },
  {
   "cell_type": "code",
   "execution_count": 19,
   "metadata": {},
   "outputs": [
    {
     "name": "stdout",
     "output_type": "stream",
     "text": [
      "12Fifty5 -> Orange St Jn : 63\n",
      "Orange St Jn -> Lemon St L : 96\n",
      "Lemon St L -> Lemon St Jn : 2\n",
      "Lemon St Jn -> HH Junction : 65\n",
      "HH Junction -> DB Junction : 145\n",
      "DB Junction -> ASU CP : 63\n",
      "ASU CP -> SDFC Side : 103\n",
      "SDFC Side -> MCRD : 0\n"
     ]
    }
   ],
   "source": [
    "# Print solution\n",
    "if m.status == GRB.OPTIMAL:\n",
    "    solution = m.getAttr('x', flow)\n",
    "    for i, j in arcs:\n",
    "        if solution[i,j] > 0:\n",
    "            print('%s -> %s : %g' % (i, j, travel_time[i,j]))"
   ]
  },
  {
   "cell_type": "code",
   "execution_count": 20,
   "metadata": {},
   "outputs": [
    {
     "data": {
      "text/plain": [
       "537.0"
      ]
     },
     "execution_count": 20,
     "metadata": {},
     "output_type": "execute_result"
    }
   ],
   "source": [
    "# Get the Optimal Objective Value\n",
    "m.ObjVal"
   ]
  },
  {
   "cell_type": "code",
   "execution_count": null,
   "metadata": {},
   "outputs": [],
   "source": []
  }
 ],
 "metadata": {
  "kernelspec": {
   "display_name": "Python 3",
   "language": "python",
   "name": "python3"
  },
  "language_info": {
   "codemirror_mode": {
    "name": "ipython",
    "version": 3
   },
   "file_extension": ".py",
   "mimetype": "text/x-python",
   "name": "python",
   "nbconvert_exporter": "python",
   "pygments_lexer": "ipython3",
   "version": "3.7.6"
  }
 },
 "nbformat": 4,
 "nbformat_minor": 4
}
