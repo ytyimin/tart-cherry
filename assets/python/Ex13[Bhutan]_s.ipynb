{
 "cells": [
  {
   "cell_type": "code",
   "execution_count": 1,
   "metadata": {},
   "outputs": [],
   "source": [
    "from gurobipy import *  # import the optimize solver Gurobi"
   ]
  },
  {
   "cell_type": "code",
   "execution_count": 2,
   "metadata": {},
   "outputs": [
    {
     "name": "stdout",
     "output_type": "stream",
     "text": [
      "Using license file C:\\Users\\chaoz\\gurobi_licence\\gurobi.lic\n",
      "Academic license - for non-commercial use only\n"
     ]
    }
   ],
   "source": [
    "number_of_year = 4 # Set the index i for number of year(1, 2, 3, 4)\n",
    "m = Model() # Import and create the model"
   ]
  },
  {
   "cell_type": "code",
   "execution_count": 3,
   "metadata": {},
   "outputs": [],
   "source": [
    "# Set the input Parameter: \n",
    "cost_hire = 40000  # Cost to hire a teacher \n",
    "cost_fire = 20000  # Cost to fire a teacher \n",
    "salary = 100000  # # Salary of a teacher\n",
    "demand = [6000, 7000, 5000, 6500]   # Demand for teacher in each year \n",
    "initial_teachers = 5000  # Number of teachers available at the beginning of year 1 "
   ]
  },
  {
   "cell_type": "code",
   "execution_count": 4,
   "metadata": {},
   "outputs": [],
   "source": [
    "# Set the Variable list: Number of teachers to hire in each year nh; Number of teachers to fire in each year nf;\n",
    "# Set the variable nh and nf to integer number\n",
    "nh = [] \n",
    "for i in range(number_of_year):\n",
    "    nh.append(m.addVar(vtype=GRB.INTEGER, name='nh{}'.format(i + 1)))\n",
    "\n",
    "nf = [] \n",
    "for i in range(number_of_year):\n",
    "    nf.append(m.addVar(vtype=GRB.INTEGER, name='nf{}'.format(i + 1)))\n",
    "\n",
    "# Caculate number of teachers working at the end of each year nw\n",
    "# nw = []\n",
    "# for i in range(len(nh)):\n",
    "#     if i > 0:\n",
    "#         initial_teachers = nw[i-1]\n",
    "#     xx = nh[i] + initial_teachers - nf[i]\n",
    "#     nw.append(xx)\n",
    "nw = []\n",
    "for i in range(len(nh)):\n",
    "    if i <= 0:\n",
    "        xx = nh[i] + initial_teachers  - nf[i]\n",
    "    else:\n",
    "        xx = nh[i] + nw[i - 1] - nf[i]\n",
    "    nw.append(xx)\n"
   ]
  },
  {
   "cell_type": "code",
   "execution_count": 5,
   "metadata": {},
   "outputs": [],
   "source": [
    "# Set the Minimize Obijective: Total Cost\n",
    "m.setObjective(quicksum([cost_hire*nh[i] for i in range(len(nh))]) + quicksum([cost_fire*nf[i] for i in range(len(nh))]) + quicksum([salary*nw[i] for i in range(len(nh))]),  GRB.MINIMIZE)"
   ]
  },
  {
   "cell_type": "code",
   "execution_count": 6,
   "metadata": {},
   "outputs": [],
   "source": [
    "# Set Non Negative decision variable\n",
    "c1 = []\n",
    "for i in range(len(nh)):\n",
    "    c1.append(m.addConstr(nh[i] >= 0))\n",
    "\n",
    "c2 = []\n",
    "for i in range(len(nf)):\n",
    "    c2.append(m.addConstr(nf[i] >= 0))\n",
    "    \n",
    "# Demand for teachers must be satisfied for each year \n",
    "c3 = []\n",
    "for i in range(len(nh)):\n",
    "    c3.append(m.addConstr(nw[i] >= demand[i]))"
   ]
  },
  {
   "cell_type": "code",
   "execution_count": 7,
   "metadata": {},
   "outputs": [
    {
     "name": "stdout",
     "output_type": "stream",
     "text": [
      "Gurobi Optimizer version 9.0.1 build v9.0.1rc0 (win64)\n",
      "Optimize a model with 12 rows, 8 columns and 28 nonzeros\n",
      "Model fingerprint: 0x2319e6f1\n",
      "Variable types: 0 continuous, 8 integer (0 binary)\n",
      "Coefficient statistics:\n",
      "  Matrix range     [1e+00, 1e+00]\n",
      "  Objective range  [8e+04, 4e+05]\n",
      "  Bounds range     [0e+00, 0e+00]\n",
      "  RHS range        [1e+03, 2e+03]\n",
      "Found heuristic solution: objective 2.690000e+09\n",
      "Presolve removed 12 rows and 8 columns\n",
      "Presolve time: 0.00s\n",
      "Presolve: All rows and columns removed\n",
      "\n",
      "Explored 0 nodes (0 simplex iterations) in 0.04 seconds\n",
      "Thread count was 1 (of 8 available processors)\n",
      "\n",
      "Solution count 2: 2.63e+09 \n",
      "\n",
      "Optimal solution found (tolerance 1.00e-04)\n",
      "Best objective 2.630000000000e+09, best bound 2.630000000000e+09, gap 0.0000%\n"
     ]
    }
   ],
   "source": [
    "# Run the optimize solver\n",
    "m.optimize()"
   ]
  },
  {
   "cell_type": "code",
   "execution_count": 8,
   "metadata": {},
   "outputs": [
    {
     "name": "stdout",
     "output_type": "stream",
     "text": [
      "\n",
      "    Variable            X \n",
      "-------------------------\n",
      "         nh1         1000 \n",
      "         nh2         1000 \n",
      "         nh4         1500 \n",
      "         nf3         2000 \n"
     ]
    }
   ],
   "source": [
    "# Get the Optimal Solution for X\n",
    "m.printAttr('X')"
   ]
  },
  {
   "cell_type": "code",
   "execution_count": 9,
   "metadata": {},
   "outputs": [
    {
     "data": {
      "text/plain": [
       "2630000000.0"
      ]
     },
     "execution_count": 9,
     "metadata": {},
     "output_type": "execute_result"
    }
   ],
   "source": [
    "# Get the Optimal Objective Value\n",
    "m.ObjVal"
   ]
  },
  {
   "cell_type": "code",
   "execution_count": null,
   "metadata": {},
   "outputs": [],
   "source": []
  },
  {
   "cell_type": "code",
   "execution_count": null,
   "metadata": {},
   "outputs": [],
   "source": []
  }
 ],
 "metadata": {
  "kernelspec": {
   "display_name": "Python 3",
   "language": "python",
   "name": "python3"
  },
  "language_info": {
   "codemirror_mode": {
    "name": "ipython",
    "version": 3
   },
   "file_extension": ".py",
   "mimetype": "text/x-python",
   "name": "python",
   "nbconvert_exporter": "python",
   "pygments_lexer": "ipython3",
   "version": "3.7.6"
  }
 },
 "nbformat": 4,
 "nbformat_minor": 4
}
