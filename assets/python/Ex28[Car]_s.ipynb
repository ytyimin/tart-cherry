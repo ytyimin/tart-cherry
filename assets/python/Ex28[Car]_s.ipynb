{
 "cells": [
  {
   "cell_type": "code",
   "execution_count": 1,
   "metadata": {},
   "outputs": [],
   "source": [
    "from gurobipy import *  # import the optimize solver Gurobi"
   ]
  },
  {
   "cell_type": "code",
   "execution_count": 2,
   "metadata": {},
   "outputs": [
    {
     "name": "stdout",
     "output_type": "stream",
     "text": [
      "Using license file C:\\Users\\chaoz\\gurobi_licence\\gurobi.lic\n",
      "Academic license - for non-commercial use only\n"
     ]
    }
   ],
   "source": [
    "number_of_worker = 4 # Set the index i for number of worker(A, B, C, D)\n",
    "number_of_type = 4 # Set the index j for number of category(Wheel, Engine, Car Body, Lights)\n",
    "m = Model() # Import and create the model"
   ]
  },
  {
   "cell_type": "code",
   "execution_count": 3,
   "metadata": {},
   "outputs": [],
   "source": [
    "# Set the input parameters\n",
    "time = [[54, 54, 51, 53], [51, 57, 52, 52], [50, 53, 54, 56], [56, 54, 55, 53]] # Time taken by worker i to construct 100 pieces of car part j"
   ]
  },
  {
   "cell_type": "code",
   "execution_count": 4,
   "metadata": {},
   "outputs": [],
   "source": [
    "# Set the Variable list: :Decision whether to pick worker i to construct car part j and set the variable nx to binary\n",
    "nx = [[0, 0, 0, 0], [0, 0, 0, 0], [0, 0, 0, 0], [0, 0, 0, 0]]\n",
    "for i in range(number_of_worker):\n",
    "    for j in range(number_of_type):\n",
    "        nx[i][j] = m.addVar(vtype=GRB.BINARY, name='nx{}'.format(str(i + 1) + str(j + 1)))"
   ]
  },
  {
   "cell_type": "code",
   "execution_count": 5,
   "metadata": {},
   "outputs": [],
   "source": [
    "# Caculate total number of category for each worker\n",
    "t1 = []\n",
    "for i in range(number_of_worker):\n",
    "    t1.append(sum([nx[i][j] for j in range(number_of_type)]))\n",
    "\n",
    "# Caculate total number of worker for each category\n",
    "t2 = []\n",
    "for j in range(number_of_type):\n",
    "    t2.append(sum([nx[i][j] for i in range(number_of_worker)]))"
   ]
  },
  {
   "cell_type": "code",
   "execution_count": 6,
   "metadata": {},
   "outputs": [],
   "source": [
    "# Set the Minimize Obijective: Total time\n",
    "m.setObjective(quicksum([nx[i][j] * time[i][j] for i, j in [(x, y ) for x in range(number_of_worker) for y in range (number_of_type)]]),  GRB.MINIMIZE)"
   ]
  },
  {
   "cell_type": "code",
   "execution_count": 7,
   "metadata": {},
   "outputs": [],
   "source": [
    "# Make sure that workers were assigned to all the part to complete the car construct\n",
    "c1 = []\n",
    "for i in range(number_of_worker):\n",
    "    c1.append(m.addConstr(t1[i] == 1))"
   ]
  },
  {
   "cell_type": "code",
   "execution_count": 8,
   "metadata": {},
   "outputs": [],
   "source": [
    "# Make sure that a worker can go for only one part of car part constructing process\n",
    "c2 = []\n",
    "for j in range(number_of_type):\n",
    "    c2.append(m.addConstr(t2[j] == 1))"
   ]
  },
  {
   "cell_type": "code",
   "execution_count": 9,
   "metadata": {},
   "outputs": [
    {
     "name": "stdout",
     "output_type": "stream",
     "text": [
      "Gurobi Optimizer version 9.0.1 build v9.0.1rc0 (win64)\n",
      "Optimize a model with 8 rows, 16 columns and 32 nonzeros\n",
      "Model fingerprint: 0xab92d87c\n",
      "Variable types: 0 continuous, 16 integer (16 binary)\n",
      "Coefficient statistics:\n",
      "  Matrix range     [1e+00, 1e+00]\n",
      "  Objective range  [5e+01, 6e+01]\n",
      "  Bounds range     [1e+00, 1e+00]\n",
      "  RHS range        [1e+00, 1e+00]\n",
      "Found heuristic solution: objective 208.0000000\n",
      "Presolve time: 0.01s\n",
      "Presolved: 8 rows, 16 columns, 32 nonzeros\n",
      "Variable types: 0 continuous, 16 integer (16 binary)\n",
      "\n",
      "Root relaxation: objective 2.070000e+02, 6 iterations, 0.01 seconds\n",
      "\n",
      "    Nodes    |    Current Node    |     Objective Bounds      |     Work\n",
      " Expl Unexpl |  Obj  Depth IntInf | Incumbent    BestBd   Gap | It/Node Time\n",
      "\n",
      "*    0     0               0     207.0000000  207.00000  0.00%     -    0s\n",
      "\n",
      "Explored 0 nodes (6 simplex iterations) in 0.52 seconds\n",
      "Thread count was 8 (of 8 available processors)\n",
      "\n",
      "Solution count 2: 207 208 \n",
      "\n",
      "Optimal solution found (tolerance 1.00e-04)\n",
      "Best objective 2.070000000000e+02, best bound 2.070000000000e+02, gap 0.0000%\n"
     ]
    }
   ],
   "source": [
    "# Run the optimize solver\n",
    "m.optimize()"
   ]
  },
  {
   "cell_type": "code",
   "execution_count": 10,
   "metadata": {},
   "outputs": [
    {
     "name": "stdout",
     "output_type": "stream",
     "text": [
      "\n",
      "    Variable            X \n",
      "-------------------------\n",
      "        nx13            1 \n",
      "        nx24            1 \n",
      "        nx31            1 \n",
      "        nx42            1 \n"
     ]
    }
   ],
   "source": [
    "# Get the Optimal Solution for X\n",
    "m.printAttr('X')"
   ]
  },
  {
   "cell_type": "code",
   "execution_count": 11,
   "metadata": {},
   "outputs": [
    {
     "data": {
      "text/plain": [
       "207.0"
      ]
     },
     "execution_count": 11,
     "metadata": {},
     "output_type": "execute_result"
    }
   ],
   "source": [
    "# Get the Optimal Objective Value\n",
    "m.ObjVal"
   ]
  },
  {
   "cell_type": "code",
   "execution_count": null,
   "metadata": {},
   "outputs": [],
   "source": []
  },
  {
   "cell_type": "code",
   "execution_count": null,
   "metadata": {},
   "outputs": [],
   "source": []
  }
 ],
 "metadata": {
  "kernelspec": {
   "display_name": "Python 3",
   "language": "python",
   "name": "python3"
  },
  "language_info": {
   "codemirror_mode": {
    "name": "ipython",
    "version": 3
   },
   "file_extension": ".py",
   "mimetype": "text/x-python",
   "name": "python",
   "nbconvert_exporter": "python",
   "pygments_lexer": "ipython3",
   "version": "3.7.6"
  }
 },
 "nbformat": 4,
 "nbformat_minor": 4
}
