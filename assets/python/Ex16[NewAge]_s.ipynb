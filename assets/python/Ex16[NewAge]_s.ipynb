{
 "cells": [
  {
   "cell_type": "code",
   "execution_count": 1,
   "metadata": {},
   "outputs": [],
   "source": [
    "from gurobipy import *  # import the optimize solver Gurobi"
   ]
  },
  {
   "cell_type": "code",
   "execution_count": 2,
   "metadata": {},
   "outputs": [
    {
     "name": "stdout",
     "output_type": "stream",
     "text": [
      "Using license file C:\\Users\\chaoz\\gurobi_licence\\gurobi.lic\n",
      "Academic license - for non-commercial use only\n"
     ]
    }
   ],
   "source": [
    "number_of_chemical = 4 # Set the index i for number types of chemical(1, 2, 3, 4)\n",
    "number_of_ingredient = 3 # Set the index j for number types of ingredient(A, B, C)\n",
    "m = Model() # Import and create the model"
   ]
  },
  {
   "cell_type": "code",
   "execution_count": 3,
   "metadata": {},
   "outputs": [],
   "source": [
    "# Set the input Parameter: \n",
    "cost_chem = [8, 10, 11, 14] # Cost for each kind of chemical per pound\n",
    "ingredient = [[0.03, 0.02, 0.01], [0.06, 0.04, 0.01], [0.1, 0.03, 0.04], [0.12, 0.09, 0.04]]   # the amount of each active ingredient in one pound of each chemical\n",
    "ingred_lim = [0.07, 0.05, 0.03]  # Weight limitation for each active ingredient\n",
    "total_amount = 5000 # the company must produce 5000 pounds of the drug\n",
    "chem_3_lim = 600  #  At least 600 pounds of chemical 3 must be used"
   ]
  },
  {
   "cell_type": "code",
   "execution_count": 4,
   "metadata": {},
   "outputs": [],
   "source": [
    "# Set the Variable list: Number of pound chemical i needed to produce drug \n",
    "# Set the variable to continuous number\n",
    "nx = [] \n",
    "for i in range(number_of_chemical):\n",
    "    nx.append(m.addVar(vtype=GRB.CONTINUOUS, name='nx{}'.format(i + 1)))\n"
   ]
  },
  {
   "cell_type": "code",
   "execution_count": 5,
   "metadata": {},
   "outputs": [],
   "source": [
    "# Caculate total pounds of ingredient j can be extracted from chemical i\n",
    "t = []\n",
    "for i in range(number_of_chemical):\n",
    "    s = []\n",
    "    for j in range(number_of_ingredient):\n",
    "        s.append(nx[i] * ingredient[i][j] )\n",
    "    t.append(s)"
   ]
  },
  {
   "cell_type": "code",
   "execution_count": 7,
   "metadata": {},
   "outputs": [],
   "source": [
    "# Caculate total pounds of ingredient j in the drug\n",
    "t1 = []\n",
    "for j in range(number_of_ingredient):\n",
    "    t1.append(sum([t[i][j] for i in range(number_of_chemical)]))"
   ]
  },
  {
   "cell_type": "code",
   "execution_count": 13,
   "metadata": {},
   "outputs": [
    {
     "name": "stdout",
     "output_type": "stream",
     "text": [
      "[<gurobi.LinExpr: 0.03 nx1 + 0.06 nx2 + 0.1 nx3 + 0.12 nx4>, <gurobi.LinExpr: 0.02 nx1 + 0.04 nx2 + 0.03 nx3 + 0.09 nx4>, <gurobi.LinExpr: 0.01 nx1 + 0.01 nx2 + 0.04 nx3 + 0.04 nx4>]\n"
     ]
    }
   ],
   "source": [
    "m.update()\n",
    "print(t1)"
   ]
  },
  {
   "cell_type": "code",
   "execution_count": 8,
   "metadata": {},
   "outputs": [],
   "source": [
    "# Set the Minimize Obijective: Total cost\n",
    "m.setObjective(quicksum([cost_chem[i] * nx[i] for i in range(number_of_chemical)]) ,  GRB.MINIMIZE)"
   ]
  },
  {
   "cell_type": "code",
   "execution_count": 9,
   "metadata": {},
   "outputs": [],
   "source": [
    "# Set Non Negative number of order\n",
    "c1=[]\n",
    "for i in range(number_of_chemical):\n",
    "    c1.append(m.addConstr(nx[i] >= 0))"
   ]
  },
  {
   "cell_type": "code",
   "execution_count": 10,
   "metadata": {},
   "outputs": [],
   "source": [
    "# Satisfy minimum total amount of drug 5000 pounds\n",
    "c2 = m.addConstr( sum(nx) >= total_amount)"
   ]
  },
  {
   "cell_type": "code",
   "execution_count": 11,
   "metadata": {},
   "outputs": [],
   "source": [
    "# Satisfy at least 600 pounds of chemical 3 must be used\n",
    "c3 = m.addConstr( nx[2] >= chem_3_lim)"
   ]
  },
  {
   "cell_type": "code",
   "execution_count": 14,
   "metadata": {},
   "outputs": [],
   "source": [
    "# Satisfy weight limitation for each active ingredient\n",
    "c4=[]\n",
    "for j in range(number_of_ingredient):\n",
    "    c4.append(m.addConstr(t1[j] >= (sum([nx[i] for i in range(number_of_chemical)]) * ingred_lim[j])))"
   ]
  },
  {
   "cell_type": "code",
   "execution_count": 15,
   "metadata": {},
   "outputs": [
    {
     "name": "stdout",
     "output_type": "stream",
     "text": [
      "Gurobi Optimizer version 9.0.1 build v9.0.1rc0 (win64)\n",
      "Optimize a model with 9 rows, 4 columns and 21 nonzeros\n",
      "Model fingerprint: 0xd60b6e10\n",
      "Coefficient statistics:\n",
      "  Matrix range     [1e-02, 1e+00]\n",
      "  Objective range  [8e+00, 1e+01]\n",
      "  Bounds range     [0e+00, 0e+00]\n",
      "  RHS range        [6e+02, 5e+03]\n",
      "Presolve removed 5 rows and 0 columns\n",
      "Presolve time: 0.42s\n",
      "Presolved: 4 rows, 4 columns, 16 nonzeros\n",
      "\n",
      "Iteration    Objective       Primal Inf.    Dual Inf.      Time\n",
      "       0    4.3598194e+04   1.092169e+03   0.000000e+00      0s\n",
      "       2    5.5833333e+04   0.000000e+00   0.000000e+00      0s\n",
      "\n",
      "Solved in 2 iterations and 0.44 seconds\n",
      "Optimal objective  5.583333333e+04\n"
     ]
    }
   ],
   "source": [
    "# Run the optimize solver\n",
    "m.optimize()"
   ]
  },
  {
   "cell_type": "code",
   "execution_count": 17,
   "metadata": {},
   "outputs": [
    {
     "name": "stdout",
     "output_type": "stream",
     "text": [
      "\n",
      "    Variable            X \n",
      "-------------------------\n",
      "         nx1      1666.67 \n",
      "         nx3      1388.89 \n",
      "         nx4      1944.44 \n"
     ]
    }
   ],
   "source": [
    "# Get the Optimal Solution for X\n",
    "m.printAttr('X')"
   ]
  },
  {
   "cell_type": "code",
   "execution_count": 18,
   "metadata": {},
   "outputs": [
    {
     "data": {
      "text/plain": [
       "55833.33333333333"
      ]
     },
     "execution_count": 18,
     "metadata": {},
     "output_type": "execute_result"
    }
   ],
   "source": [
    "# Get the objective values\n",
    "m.ObjVal"
   ]
  },
  {
   "cell_type": "code",
   "execution_count": null,
   "metadata": {},
   "outputs": [],
   "source": []
  }
 ],
 "metadata": {
  "kernelspec": {
   "display_name": "Python 3",
   "language": "python",
   "name": "python3"
  },
  "language_info": {
   "codemirror_mode": {
    "name": "ipython",
    "version": 3
   },
   "file_extension": ".py",
   "mimetype": "text/x-python",
   "name": "python",
   "nbconvert_exporter": "python",
   "pygments_lexer": "ipython3",
   "version": "3.7.6"
  }
 },
 "nbformat": 4,
 "nbformat_minor": 4
}
