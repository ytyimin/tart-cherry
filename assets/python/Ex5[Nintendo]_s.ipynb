{
 "cells": [
  {
   "cell_type": "code",
   "execution_count": 1,
   "metadata": {},
   "outputs": [],
   "source": [
    "from gurobipy import *  # import the optimize solver Gurobi"
   ]
  },
  {
   "cell_type": "code",
   "execution_count": 2,
   "metadata": {},
   "outputs": [
    {
     "name": "stdout",
     "output_type": "stream",
     "text": [
      "Using license file C:\\Users\\chaoz\\gurobi_licence\\gurobi.lic\n",
      "Academic license - for non-commercial use only\n"
     ]
    }
   ],
   "source": [
    "number_of_week = 3 # Set the index for number of week(1, 2, 3)\n",
    "m = Model() # Import and create the model"
   ]
  },
  {
   "cell_type": "code",
   "execution_count": 3,
   "metadata": {},
   "outputs": [],
   "source": [
    "# Set the input Parameter: \n",
    "unit_production_cost = [130, 140, 150]  # Production cost of per unit in each week  \n",
    "unit_holding_cost = 20  # Storage/Holding cost incurred per unit  \n",
    "demand = [2000, 1000, 1500]   # Demand in each week \n",
    "initial_inventory = 500  # Inventory at the beginning of week 1\n",
    "a = 0.5 # Fraction of the goods produced during a week that can be used to meet the current week’s demand"
   ]
  },
  {
   "cell_type": "code",
   "execution_count": 4,
   "metadata": {},
   "outputs": [],
   "source": [
    "# Set the Variable list: Units of Switch to be ordered in each week\n",
    "# Set the variable nx to integer number\n",
    "nx = [] \n",
    "for i in range(number_of_week):\n",
    "    nx.append(m.addVar(vtype=GRB.INTEGER, name='nx{}'.format(i + 1)))\n",
    "\n",
    "# Caculate inventory at the end of each month\n",
    "# ni = []\n",
    "# ni.append(initial_inventory)\n",
    "# for i in range(len(nx)):\n",
    "#     xx = nx[i] + ni[i] - demand[i]\n",
    "#     ni.append(xx)\n",
    "\n",
    "ni = []\n",
    "for i in range(len(nx)):\n",
    "    if i <= 0:\n",
    "        xx = nx[i] + initial_inventory  - demand[i]\n",
    "    else:\n",
    "        xx = nx[i] + ni[i - 1] - demand[i]\n",
    "    ni.append(xx)"
   ]
  },
  {
   "cell_type": "code",
   "execution_count": 5,
   "metadata": {},
   "outputs": [],
   "source": [
    "# Set the Minimize Obijective: Total Cost\n",
    "m.setObjective(quicksum([unit_production_cost[i]*nx[i] for i in range(len(nx))]) + quicksum([unit_holding_cost*ni[i] for i in range(len(nx))]),  GRB.MINIMIZE)"
   ]
  },
  {
   "cell_type": "code",
   "execution_count": 6,
   "metadata": {},
   "outputs": [],
   "source": [
    "# Set Non Negative decision variable\n",
    "c1 = []\n",
    "for i in range(len(nx)):\n",
    "    c1.append(m.addConstr(nx[i] >= 0))\n",
    "    \n",
    "# Demand must be satisfied for each week \n",
    "c2 = []\n",
    "for i in range(len(nx)):\n",
    "    if i > 0:\n",
    "        c2.append(m.addConstr(ni[i-1] + a*nx[i] >= demand[i]))\n",
    "    else:\n",
    "        c2.append(m.addConstr(initial_inventory + a*nx[i] >= demand[i]))"
   ]
  },
  {
   "cell_type": "code",
   "execution_count": 7,
   "metadata": {},
   "outputs": [
    {
     "name": "stdout",
     "output_type": "stream",
     "text": [
      "Gurobi Optimizer version 9.0.1 build v9.0.1rc0 (win64)\n",
      "Optimize a model with 6 rows, 3 columns and 9 nonzeros\n",
      "Model fingerprint: 0x0028c51c\n",
      "Variable types: 0 continuous, 3 integer (0 binary)\n",
      "Coefficient statistics:\n",
      "  Matrix range     [5e-01, 1e+00]\n",
      "  Objective range  [2e+02, 2e+02]\n",
      "  Bounds range     [0e+00, 0e+00]\n",
      "  RHS range        [2e+03, 4e+03]\n",
      "Found heuristic solution: objective 750000.00000\n",
      "Presolve removed 6 rows and 3 columns\n",
      "Presolve time: 0.00s\n",
      "Presolve: All rows and columns removed\n",
      "\n",
      "Explored 0 nodes (0 simplex iterations) in 0.03 seconds\n",
      "Thread count was 1 (of 8 available processors)\n",
      "\n",
      "Solution count 2: 590000 \n",
      "\n",
      "Optimal solution found (tolerance 1.00e-04)\n",
      "Best objective 5.900000000000e+05, best bound 5.900000000000e+05, gap 0.0000%\n"
     ]
    }
   ],
   "source": [
    "# Run the optimize solver\n",
    "m.optimize()"
   ]
  },
  {
   "cell_type": "code",
   "execution_count": 8,
   "metadata": {},
   "outputs": [
    {
     "name": "stdout",
     "output_type": "stream",
     "text": [
      "\n",
      "    Variable            X \n",
      "-------------------------\n",
      "         nx1         3000 \n",
      "         nx2         1000 \n"
     ]
    }
   ],
   "source": [
    "# Get the Optimal Solution for X\n",
    "m.printAttr('X')"
   ]
  },
  {
   "cell_type": "code",
   "execution_count": 9,
   "metadata": {},
   "outputs": [
    {
     "data": {
      "text/plain": [
       "590000.0"
      ]
     },
     "execution_count": 9,
     "metadata": {},
     "output_type": "execute_result"
    }
   ],
   "source": [
    "# Get the Optimal Objective Value\n",
    "m.ObjVal"
   ]
  },
  {
   "cell_type": "code",
   "execution_count": 10,
   "metadata": {},
   "outputs": [
    {
     "data": {
      "text/plain": [
       "[3000.0, 1000.0, 0.0]"
      ]
     },
     "execution_count": 10,
     "metadata": {},
     "output_type": "execute_result"
    }
   ],
   "source": [
    "# Get the optimal solution list\n",
    "m.X"
   ]
  },
  {
   "cell_type": "code",
   "execution_count": 11,
   "metadata": {},
   "outputs": [
    {
     "name": "stdout",
     "output_type": "stream",
     "text": [
      "[1500.0, 1500.0, 0.0]\n"
     ]
    }
   ],
   "source": [
    "# Get the end of inventory for each week\n",
    "nin = []\n",
    "initial_inventory = 500\n",
    "for i in range(3):\n",
    "    if i > 0:\n",
    "        initial_inventory = nin[i-1]\n",
    "    xx = m.X[i] + initial_inventory - demand[i]\n",
    "    nin.append(xx)\n",
    "print(nin)"
   ]
  },
  {
   "cell_type": "code",
   "execution_count": null,
   "metadata": {},
   "outputs": [],
   "source": []
  },
  {
   "cell_type": "code",
   "execution_count": null,
   "metadata": {},
   "outputs": [],
   "source": []
  }
 ],
 "metadata": {
  "kernelspec": {
   "display_name": "Python 3",
   "language": "python",
   "name": "python3"
  },
  "language_info": {
   "codemirror_mode": {
    "name": "ipython",
    "version": 3
   },
   "file_extension": ".py",
   "mimetype": "text/x-python",
   "name": "python",
   "nbconvert_exporter": "python",
   "pygments_lexer": "ipython3",
   "version": "3.7.6"
  }
 },
 "nbformat": 4,
 "nbformat_minor": 4
}
