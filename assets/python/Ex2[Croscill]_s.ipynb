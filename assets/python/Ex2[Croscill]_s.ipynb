{
 "cells": [
  {
   "cell_type": "code",
   "execution_count": 1,
   "metadata": {},
   "outputs": [],
   "source": [
    "from gurobipy import *  # import the optimize solver Gurobi"
   ]
  },
  {
   "cell_type": "code",
   "execution_count": 2,
   "metadata": {},
   "outputs": [
    {
     "name": "stdout",
     "output_type": "stream",
     "text": [
      "Using license file C:\\Users\\chaoz\\gurobi_licence\\gurobi.lic\n",
      "Academic license - for non-commercial use only\n"
     ]
    }
   ],
   "source": [
    "number_of_item = 3 # Set the number limit of manufacturing item\n",
    "m = Model() # Import and create the model"
   ]
  },
  {
   "cell_type": "code",
   "execution_count": 3,
   "metadata": {},
   "outputs": [],
   "source": [
    "# Set the input Parameter: \n",
    "cloth_required = [39*75, 82*84, 16*16]  # Units of cloth used in square inches to produce item type\n",
    "selling_price = [70, 180, 40]  # Selling price of 1 item type \n",
    "cloth_available = 1000000   # Total square inches of cloth available for production for the month\n",
    "unit_cost_cloth = 0.01 # Cost of cloth per square inches"
   ]
  },
  {
   "cell_type": "code",
   "execution_count": 4,
   "metadata": {},
   "outputs": [],
   "source": [
    "# Set the Variable list: Number of item type to be produced by Croscill Home and set the variable nx to integer\n",
    "nx = [] \n",
    "for i in range(number_of_item):\n",
    "    nx.append(m.addVar(vtype=GRB.INTEGER, name='nx{}'.format(i + 1)))"
   ]
  },
  {
   "cell_type": "code",
   "execution_count": 5,
   "metadata": {},
   "outputs": [],
   "source": [
    "# Set the Maximize Obijective: Total profit\n",
    "m.setObjective(quicksum([selling_price[i]*nx[i] for i in range(len(nx))]) - quicksum([cloth_required[i]*nx[i] for i in range(len(nx))]) * unit_cost_cloth ,  GRB.MAXIMIZE)"
   ]
  },
  {
   "cell_type": "code",
   "execution_count": 6,
   "metadata": {},
   "outputs": [],
   "source": [
    "# Set Non Negative decision variable\n",
    "c1 = []\n",
    "for i in range(len(nx)):\n",
    "    c1.append(m.addConstr(nx[i] >= 0))\n",
    "\n",
    "# Set Minimum number of bedsheets is at least 2*cushion cover\n",
    "c2 = m.addConstr(nx[0] >= 2*nx[2])\n",
    "\n",
    "# Set Minimum number of curtains to be produced\n",
    "c3 = m.addConstr(nx[1] >= 9)\n",
    "\n",
    "# Set total cloth availability\n",
    "c4 = m.addConstr(quicksum([cloth_required[i]*nx[i] for i in range(len(nx))]) <= cloth_available)"
   ]
  },
  {
   "cell_type": "code",
   "execution_count": 7,
   "metadata": {},
   "outputs": [
    {
     "name": "stdout",
     "output_type": "stream",
     "text": [
      "Gurobi Optimizer version 9.0.1 build v9.0.1rc0 (win64)\n",
      "Optimize a model with 6 rows, 3 columns and 9 nonzeros\n",
      "Model fingerprint: 0x7475aee5\n",
      "Variable types: 0 continuous, 3 integer (0 binary)\n",
      "Coefficient statistics:\n",
      "  Matrix range     [1e+00, 7e+03]\n",
      "  Objective range  [4e+01, 1e+02]\n",
      "  Bounds range     [0e+00, 0e+00]\n",
      "  RHS range        [9e+00, 1e+06]\n",
      "Presolve removed 4 rows and 0 columns\n",
      "Presolve time: 0.00s\n",
      "Presolved: 2 rows, 3 columns, 5 nonzeros\n",
      "Variable types: 0 continuous, 3 integer (0 binary)\n",
      "Found heuristic solution: objective 16112.400000\n",
      "\n",
      "Root relaxation: objective 1.927173e+04, 3 iterations, 0.00 seconds\n",
      "\n",
      "    Nodes    |    Current Node    |     Objective Bounds      |     Work\n",
      " Expl Unexpl |  Obj  Depth IntInf | Incumbent    BestBd   Gap | It/Node Time\n",
      "\n",
      "     0     0 19271.7262    0    2 16112.4000 19271.7262  19.6%     -    0s\n",
      "H    0     0                    18942.440000 19271.7262  1.74%     -    0s\n",
      "H    0     0                    19238.650000 19271.7262  0.17%     -    0s\n",
      "\n",
      "Explored 1 nodes (3 simplex iterations) in 0.18 seconds\n",
      "Thread count was 8 (of 8 available processors)\n",
      "\n",
      "Solution count 3: 19238.7 18942.4 16112.4 \n",
      "\n",
      "Optimal solution found (tolerance 1.00e-04)\n",
      "Best objective 1.923865000000e+04, best bound 1.923865000000e+04, gap 0.0000%\n"
     ]
    }
   ],
   "source": [
    "# Run the optimize solver\n",
    "m.optimize()"
   ]
  },
  {
   "cell_type": "code",
   "execution_count": 8,
   "metadata": {},
   "outputs": [
    {
     "name": "stdout",
     "output_type": "stream",
     "text": [
      "\n",
      "    Variable            X \n",
      "-------------------------\n",
      "         nx1          307 \n",
      "         nx2            9 \n",
      "         nx3          153 \n"
     ]
    }
   ],
   "source": [
    "# Get the Optimal Solution for X\n",
    "m.printAttr('X')"
   ]
  },
  {
   "cell_type": "code",
   "execution_count": 9,
   "metadata": {},
   "outputs": [
    {
     "data": {
      "text/plain": [
       "19238.65"
      ]
     },
     "execution_count": 9,
     "metadata": {},
     "output_type": "execute_result"
    }
   ],
   "source": [
    "# Get the Optimal Objective Value\n",
    "m.ObjVal"
   ]
  },
  {
   "cell_type": "code",
   "execution_count": null,
   "metadata": {},
   "outputs": [],
   "source": []
  }
 ],
 "metadata": {
  "kernelspec": {
   "display_name": "Python 3",
   "language": "python",
   "name": "python3"
  },
  "language_info": {
   "codemirror_mode": {
    "name": "ipython",
    "version": 3
   },
   "file_extension": ".py",
   "mimetype": "text/x-python",
   "name": "python",
   "nbconvert_exporter": "python",
   "pygments_lexer": "ipython3",
   "version": "3.7.6"
  }
 },
 "nbformat": 4,
 "nbformat_minor": 4
}
